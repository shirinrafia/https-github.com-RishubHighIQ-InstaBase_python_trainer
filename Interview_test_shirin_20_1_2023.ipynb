{
  "nbformat": 4,
  "nbformat_minor": 0,
  "metadata": {
    "colab": {
      "provenance": [],
      "include_colab_link": true
    },
    "kernelspec": {
      "name": "python3",
      "display_name": "Python 3"
    },
    "language_info": {
      "name": "python"
    },
    "gpuClass": "standard"
  },
  "cells": [
    {
      "cell_type": "markdown",
      "metadata": {
        "id": "view-in-github",
        "colab_type": "text"
      },
      "source": [
        "<a href=\"https://colab.research.google.com/github/shirinrafia/https-github.com-RishubHighIQ-InstaBase_python_trainer/blob/main/Interview_test_shirin_20_1_2023.ipynb\" target=\"_parent\"><img src=\"https://colab.research.google.com/assets/colab-badge.svg\" alt=\"Open In Colab\"/></a>"
      ]
    },
    {
      "cell_type": "code",
      "source": [
        "import re\n",
        "\n",
        "# Key: Zip Code\n",
        "# Value: Income Tax %\n",
        "INCOME_TAX_DICT = {\n",
        "  '46410' : .25,\n",
        "  '07042' : .3,\n",
        "  '29483' : .4,\n",
        "  '34639' : .2,\n",
        "  '99654' : .27,\n",
        "  '21043' : .16\n",
        "}\n",
        "\n",
        "s1 = '''\n",
        "Employee Group: In office\n",
        "EmployeeID        Gross_Salary             Net_Pay        Income_Tax      Office_Zip_Code      Occupation  \\n\n",
        "84061099          136020                   102015          34005          46410                Data Scientist\\n\n",
        "27318141          148245                   103771.5       44673.50       07042               Software Engineer\\n\n",
        "33947938          102731                   61638.6          41092.4        29483                Recruiter\\n\n",
        " \n",
        "Employee Group: Remote\n",
        "EmployeeID        Gross_Salary             Net_Pay        Income_Tax      Office_Zip_Code      Occupation  \\n\n",
        "10447324          58303                    46642.4        11660.6         34639            Admin Assistant\\n\n",
        "21360858          64829                    47325.17        17503.83       99654               Accountant\\n\n",
        "'''\n",
        "\n",
        "s2 = '''\n",
        "Employee Group: In office\n",
        "EmployeeID        Gross_Salary             Net_Pay        Income_Tax      Office_Zip_Code      Occupation  \\n\n",
        "00000001          104723                   102015.00      39,091          46410                Data Scientist\\n\n",
        "00000002          148245                   124,525.8      23719.2         21043-VA             Software Engineer\\n\n",
        " \n",
        "Employee Group: Remote\n",
        "EmployeeID        Gross_Salary             Net_Pay        Income_Tax      Office_Zip_Code      Occupation  \\n\n",
        "00000003          102731                   $74993.63      27737.77        99654                Recruiter\\n\n",
        "00000004          58303                    40812.1        17490.9          07042-CA            Admin Assistant\\n\n",
        "00000005          64829                    $3,8897.4      25931.6         MD-29483             Accountant\\n\n",
        "'''\n",
        "\n",
        "s3 = '''\n",
        "Employee Group: In office\n",
        "EmployeeID        Gross_Salary             Net_Pay        Income_Tax      Office_Zip_Code      Occupation  \\n\n",
        "00000011          104723                   102015.0o         $39,991           4GE1o               Data Scientist\\n\n",
        "00000022          148245                   12E,525.8         23,719.2          21o43-VA             Software Engineer\\n\n",
        "\n",
        "Employee Group: Remote\n",
        "EmployeeID        Gross_Salary             Net_Pay        Income_Tax      Office_Zip_Code      Occupation  \\n\n",
        "00000033          102731                   $74993.G3         27,737.77         99g54                Recruiter\\n\n",
        "00000044          58303                    4O812.1          17e90.9           O7O42-CA             Admin Assistant\\n\n",
        "00000055          64829                    $3,8897.4          $25931.G         MD-29E83             Accountant\\n\n",
        "'''\n",
        "\n",
        "# Q1: Create a list of dictionaries for each string (s1, s2 and s3) containing one list entry for each row and a key value pair format for each column\n",
        "# Q2: Validate the net pay value with fixing the most common ocr Issues"
      ],
      "metadata": {
        "id": "1TKpJzEkhNxy"
      },
      "execution_count": 11,
      "outputs": []
    },
    {
      "cell_type": "code",
      "source": [
        "s1_ = s1.split('\\n')\n",
        "s2_ = s2.split('\\n')\n",
        "s3_ = s3.split('\\n')\n",
        "s1_\n",
        "s2_\n",
        "s3_"
      ],
      "metadata": {
        "id": "KVnBfBRaoQl5",
        "colab": {
          "base_uri": "https://localhost:8080/"
        },
        "outputId": "375a97bf-4ff5-4ca4-953e-5a30a6569069"
      },
      "execution_count": 12,
      "outputs": [
        {
          "output_type": "execute_result",
          "data": {
            "text/plain": [
              "['',\n",
              " 'Employee Group: In office',\n",
              " 'EmployeeID        Gross_Salary             Net_Pay        Income_Tax      Office_Zip_Code      Occupation  ',\n",
              " '',\n",
              " '00000011          104723                   102015.0o         $39,991           4GE1o               Data Scientist',\n",
              " '',\n",
              " '00000022          148245                   12E,525.8         23,719.2          21o43-VA             Software Engineer',\n",
              " '',\n",
              " '',\n",
              " 'Employee Group: Remote',\n",
              " 'EmployeeID        Gross_Salary             Net_Pay        Income_Tax      Office_Zip_Code      Occupation  ',\n",
              " '',\n",
              " '00000033          102731                   $74993.G3         27,737.77         99g54                Recruiter',\n",
              " '',\n",
              " '00000044          58303                    4O812.1          17e90.9           O7O42-CA             Admin Assistant',\n",
              " '',\n",
              " '00000055          64829                    $3,8897.4          $25931.G         MD-29E83             Accountant',\n",
              " '',\n",
              " '']"
            ]
          },
          "metadata": {},
          "execution_count": 12
        }
      ]
    },
    {
      "cell_type": "code",
      "source": [
        "def preprocessor(s1_):\n",
        "  tmp_s1 = []\n",
        "  for i in s1_:\n",
        "    i = i.rstrip(' ')\n",
        "    i = i.lstrip(' ')\n",
        "    \n",
        "    if(i=='') or ('Employee Group: ' in i):\n",
        "      pass\n",
        "    else:\n",
        "      tmp_s1.append(i)\n",
        "\n",
        "  for i in range(len(tmp_s1)):\n",
        "    tmp_s1[i] = tmp_s1[i].split('  ')\n",
        "    while '' in tmp_s1[i]:\n",
        "      tmp_s1[i].remove('')\n",
        "\n",
        "    for j in range(len(tmp_s1[i])):\n",
        "        tmp_s1[i][j] = tmp_s1[i][j].rstrip(' ')\n",
        "        tmp_s1[i][j] = tmp_s1[i][j].lstrip(' ')\n",
        "\n",
        "  cols = tmp_s1[0]\n",
        "  while cols in tmp_s1:\n",
        "    tmp_s1.remove(cols)\n",
        "\n",
        "  res = []\n",
        "  for i in range(len(tmp_s1)):\n",
        "    tmp_dict = {}\n",
        "    for j in range(len(cols)):\n",
        "      tmp_dict[cols[j]] = tmp_s1[i][j]\n",
        "    res.append(tmp_dict)\n",
        "\n",
        "  print(res)\n",
        "\n",
        "\n"
      ],
      "metadata": {
        "id": "lAh3FgHvfKhN"
      },
      "execution_count": 13,
      "outputs": []
    },
    {
      "cell_type": "code",
      "source": [
        "preprocessor(s1_)"
      ],
      "metadata": {
        "colab": {
          "base_uri": "https://localhost:8080/"
        },
        "id": "VohOnvZ9jTws",
        "outputId": "3e5534a7-00d6-4225-8f69-6388e967c2c1"
      },
      "execution_count": 14,
      "outputs": [
        {
          "output_type": "stream",
          "name": "stdout",
          "text": [
            "[{'EmployeeID': '84061099', 'Gross_Salary': '136020', 'Net_Pay': '102015', 'Income_Tax': '34005', 'Office_Zip_Code': '46410', 'Occupation': 'Data Scientist'}, {'EmployeeID': '27318141', 'Gross_Salary': '148245', 'Net_Pay': '103771.5', 'Income_Tax': '44673.50', 'Office_Zip_Code': '07042', 'Occupation': 'Software Engineer'}, {'EmployeeID': '33947938', 'Gross_Salary': '102731', 'Net_Pay': '61638.6', 'Income_Tax': '41092.4', 'Office_Zip_Code': '29483', 'Occupation': 'Recruiter'}, {'EmployeeID': '10447324', 'Gross_Salary': '58303', 'Net_Pay': '46642.4', 'Income_Tax': '11660.6', 'Office_Zip_Code': '34639', 'Occupation': 'Admin Assistant'}, {'EmployeeID': '21360858', 'Gross_Salary': '64829', 'Net_Pay': '47325.17', 'Income_Tax': '17503.83', 'Office_Zip_Code': '99654', 'Occupation': 'Accountant'}]\n"
          ]
        }
      ]
    },
    {
      "cell_type": "code",
      "source": [
        "def parse_table(cols,tmp_):\n",
        "  res = []\n",
        "  for i in range(len(tmp_)):\n",
        "    tmp_dict = {}\n",
        "    for j in range(len(cols)):\n",
        "      tmp_dict[cols[j]] = tmp_[i][j]\n",
        "    res.append(tmp_dict)\n",
        "    return res\n"
      ],
      "metadata": {
        "id": "c6uM_KNToka2"
      },
      "execution_count": 20,
      "outputs": []
    },
    {
      "cell_type": "code",
      "source": [
        "cols,tmp_s1 = preprocessor(s1_)"
      ],
      "metadata": {
        "id": "oG_H3fTPY-hQ"
      },
      "execution_count": 16,
      "outputs": []
    },
    {
      "cell_type": "code",
      "source": [
        "preprocessor(s2_)"
      ],
      "metadata": {
        "colab": {
          "base_uri": "https://localhost:8080/"
        },
        "id": "JwFDwJzC7rJb",
        "outputId": "89bfd977-d12b-414c-856c-c74bd51916fb"
      },
      "execution_count": 17,
      "outputs": [
        {
          "output_type": "execute_result",
          "data": {
            "text/plain": [
              "(['EmployeeID',\n",
              "  'Gross_Salary',\n",
              "  'Net_Pay',\n",
              "  'Income_Tax',\n",
              "  'Office_Zip_Code',\n",
              "  'Occupation'],\n",
              " [['00000001', '104723', '102015.00', '39,091', '46410', 'Data', 'Scientist'],\n",
              "  ['00000002',\n",
              "   '148245',\n",
              "   '124,525.8',\n",
              "   '23719.2',\n",
              "   '21043-VA',\n",
              "   'Software',\n",
              "   'Engineer'],\n",
              "  ['EmployeeID',\n",
              "   'Gross_Salary',\n",
              "   'Net_Pay',\n",
              "   'Income_Tax',\n",
              "   'Office_Zip_Code',\n",
              "   'Occupation'],\n",
              "  ['00000003', '102731', '$74993.63', '27737.77', '99654', 'Recruiter'],\n",
              "  ['00000004',\n",
              "   '58303',\n",
              "   '40812.1',\n",
              "   '17490.9',\n",
              "   '07042-CA',\n",
              "   'Admin',\n",
              "   'Assistant'],\n",
              "  ['00000005', '64829', '$3,8897.4', '25931.6', 'MD-29483', 'Accountant']])"
            ]
          },
          "metadata": {},
          "execution_count": 17
        }
      ]
    },
    {
      "cell_type": "code",
      "source": [
        "tmp_s1"
      ],
      "metadata": {
        "id": "nz7i6vsc6dUI",
        "colab": {
          "base_uri": "https://localhost:8080/"
        },
        "outputId": "56d9043e-a632-4e93-8edb-864294affa43"
      },
      "execution_count": 18,
      "outputs": [
        {
          "output_type": "execute_result",
          "data": {
            "text/plain": [
              "[['84061099', '136020', '102015', '34005', '46410', 'Data', 'Scientist'],\n",
              " ['27318141',\n",
              "  '148245',\n",
              "  '103771.5',\n",
              "  '44673.50',\n",
              "  '07042',\n",
              "  'Software',\n",
              "  'Engineer'],\n",
              " ['33947938', '102731', '61638.6', '41092.4', '29483', 'Recruiter'],\n",
              " ['EmployeeID',\n",
              "  'Gross_Salary',\n",
              "  'Net_Pay',\n",
              "  'Income_Tax',\n",
              "  'Office_Zip_Code',\n",
              "  'Occupation'],\n",
              " ['10447324', '58303', '46642.4', '11660.6', '34639', 'Admin', 'Assistant'],\n",
              " ['21360858', '64829', '47325.17', '17503.83', '99654', 'Accountant']]"
            ]
          },
          "metadata": {},
          "execution_count": 18
        }
      ]
    },
    {
      "cell_type": "code",
      "source": [
        "cols"
      ],
      "metadata": {
        "id": "6nZfZxn1a0hi",
        "colab": {
          "base_uri": "https://localhost:8080/"
        },
        "outputId": "bb8cc86a-08ee-4ffb-8340-9e31d911b560"
      },
      "execution_count": 19,
      "outputs": [
        {
          "output_type": "execute_result",
          "data": {
            "text/plain": [
              "['EmployeeID',\n",
              " 'Gross_Salary',\n",
              " 'Net_Pay',\n",
              " 'Income_Tax',\n",
              " 'Office_Zip_Code',\n",
              " 'Occupation']"
            ]
          },
          "metadata": {},
          "execution_count": 19
        }
      ]
    }
  ]
}