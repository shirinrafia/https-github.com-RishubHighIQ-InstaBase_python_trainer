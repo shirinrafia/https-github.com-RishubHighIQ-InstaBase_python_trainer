{
  "nbformat": 4,
  "nbformat_minor": 0,
  "metadata": {
    "colab": {
      "provenance": [],
      "include_colab_link": true
    },
    "kernelspec": {
      "name": "python3",
      "display_name": "Python 3"
    },
    "language_info": {
      "name": "python"
    }
  },
  "cells": [
    {
      "cell_type": "markdown",
      "metadata": {
        "id": "view-in-github",
        "colab_type": "text"
      },
      "source": [
        "<a href=\"https://colab.research.google.com/github/shirinrafia/https-github.com-RishubHighIQ-InstaBase_python_trainer/blob/main/Python_Trainer_Notebook_shirin.ipynb\" target=\"_parent\"><img src=\"https://colab.research.google.com/assets/colab-badge.svg\" alt=\"Open In Colab\"/></a>"
      ]
    },
    {
      "cell_type": "code",
      "source": [],
      "metadata": {
        "id": "bS6fk7G8uwxt",
        "outputId": "9b8b56ae-e4e7-47ee-83ac-ea6a5e963949",
        "colab": {
          "base_uri": "https://localhost:8080/",
          "height": 356
        }
      },
      "execution_count": 27,
      "outputs": [
        {
          "output_type": "error",
          "ename": "FileNotFoundError",
          "evalue": "ignored",
          "traceback": [
            "\u001b[0;31m---------------------------------------------------------------------------\u001b[0m",
            "\u001b[0;31mFileNotFoundError\u001b[0m                         Traceback (most recent call last)",
            "\u001b[0;32m<ipython-input-27-c54e737e74b9>\u001b[0m in \u001b[0;36m<module>\u001b[0;34m\u001b[0m\n\u001b[1;32m      1\u001b[0m \u001b[0;32mfrom\u001b[0m \u001b[0mPIL\u001b[0m \u001b[0;32mimport\u001b[0m \u001b[0mImage\u001b[0m\u001b[0;34m,\u001b[0m \u001b[0mImageFilter\u001b[0m\u001b[0;34m\u001b[0m\u001b[0;34m\u001b[0m\u001b[0m\n\u001b[1;32m      2\u001b[0m \u001b[0;34m\u001b[0m\u001b[0m\n\u001b[0;32m----> 3\u001b[0;31m \u001b[0moriginal_image\u001b[0m \u001b[0;34m=\u001b[0m \u001b[0mImage\u001b[0m\u001b[0;34m.\u001b[0m\u001b[0mopen\u001b[0m\u001b[0;34m(\u001b[0m\u001b[0;34m\"file.ppm\"\u001b[0m\u001b[0;34m)\u001b[0m\u001b[0;34m\u001b[0m\u001b[0;34m\u001b[0m\u001b[0m\n\u001b[0m\u001b[1;32m      4\u001b[0m \u001b[0mblurred_image\u001b[0m \u001b[0;34m=\u001b[0m \u001b[0moriginal_image\u001b[0m\u001b[0;34m.\u001b[0m\u001b[0mfilter\u001b[0m\u001b[0;34m(\u001b[0m\u001b[0mImageFilter\u001b[0m\u001b[0;34m.\u001b[0m\u001b[0mBLUR\u001b[0m\u001b[0;34m)\u001b[0m\u001b[0;34m\u001b[0m\u001b[0;34m\u001b[0m\u001b[0m\n\u001b[1;32m      5\u001b[0m \u001b[0;34m\u001b[0m\u001b[0m\n",
            "\u001b[0;32m/usr/local/lib/python3.8/dist-packages/PIL/Image.py\u001b[0m in \u001b[0;36mopen\u001b[0;34m(fp, mode)\u001b[0m\n\u001b[1;32m   2841\u001b[0m \u001b[0;34m\u001b[0m\u001b[0m\n\u001b[1;32m   2842\u001b[0m     \u001b[0;32mif\u001b[0m \u001b[0mfilename\u001b[0m\u001b[0;34m:\u001b[0m\u001b[0;34m\u001b[0m\u001b[0;34m\u001b[0m\u001b[0m\n\u001b[0;32m-> 2843\u001b[0;31m         \u001b[0mfp\u001b[0m \u001b[0;34m=\u001b[0m \u001b[0mbuiltins\u001b[0m\u001b[0;34m.\u001b[0m\u001b[0mopen\u001b[0m\u001b[0;34m(\u001b[0m\u001b[0mfilename\u001b[0m\u001b[0;34m,\u001b[0m \u001b[0;34m\"rb\"\u001b[0m\u001b[0;34m)\u001b[0m\u001b[0;34m\u001b[0m\u001b[0;34m\u001b[0m\u001b[0m\n\u001b[0m\u001b[1;32m   2844\u001b[0m         \u001b[0mexclusive_fp\u001b[0m \u001b[0;34m=\u001b[0m \u001b[0;32mTrue\u001b[0m\u001b[0;34m\u001b[0m\u001b[0;34m\u001b[0m\u001b[0m\n\u001b[1;32m   2845\u001b[0m \u001b[0;34m\u001b[0m\u001b[0m\n",
            "\u001b[0;31mFileNotFoundError\u001b[0m: [Errno 2] No such file or directory: 'file.ppm'"
          ]
        }
      ]
    },
    {
      "cell_type": "code",
      "source": [
        "def do_stuff(num=0):\n",
        "  try:\n",
        "    if num: # try to test for when input is 0. How can you fix this?\n",
        "      return int(num) + 5\n",
        "    else:\n",
        "      return 'please enter number'\n",
        "  except ValueError as err:\n",
        "    return err"
      ],
      "metadata": {
        "id": "GXFfjijAuAuN"
      },
      "execution_count": 25,
      "outputs": []
    },
    {
      "cell_type": "code",
      "source": [
        "import re\n",
        "\n",
        "pattern = re.compile(r'[a-zA-Z0-9$%#@]{8,}\\d$')\n",
        "string = '123Asdaw@$4'\n",
        "a = pattern.fullmatch(string)\n",
        "\n",
        "if a == None:\n",
        "    print('your password must be at least 8 digits long\\n contain letters, numbers, any of these symbols $%#@ and end with a number')\n",
        "\n",
        "else:\n",
        "    print('logged in')"
      ],
      "metadata": {
        "id": "7SMN1IWMuAX0",
        "outputId": "82c51473-7782-4cdd-f594-82526e4bd6a1",
        "colab": {
          "base_uri": "https://localhost:8080/"
        }
      },
      "execution_count": 24,
      "outputs": [
        {
          "output_type": "stream",
          "name": "stdout",
          "text": [
            "logged in\n"
          ]
        }
      ]
    },
    {
      "cell_type": "code",
      "source": [
        "password = \"secret@#$%123\"\n",
        "pattern = re.compile(r\"[a-zA-Z0-9@#$%]{8,}\\d\")\n",
        "\n",
        "b = pattern.fullmatch(password)\n",
        "\n",
        "print(password)\n",
        "    \n",
        "try:\n",
        "    if b.group() != None:\n",
        "        print(\"Password is valid.\")\n",
        "except AttributeError:\n",
        "    print(\"Password does not meet criteria.\")\n",
        "\n",
        "print()"
      ],
      "metadata": {
        "id": "_fxuugqmsJH3",
        "outputId": "2543da24-651a-4886-e4e6-cf0cfc11d15c",
        "colab": {
          "base_uri": "https://localhost:8080/"
        }
      },
      "execution_count": 23,
      "outputs": [
        {
          "output_type": "stream",
          "name": "stdout",
          "text": [
            "secret@#$%123\n",
            "Password is valid.\n",
            "\n"
          ]
        }
      ]
    },
    {
      "cell_type": "code",
      "source": [
        "import re\n",
        "\n",
        "pattern = re.compile(r\"^[A-Za-z0-9#?!@$%^&*-].{8,}\\d$\")\n",
        "string = 'jjw123fdafdasfdafa9'\n",
        "\n",
        "a = pattern.fullmatch(string)\n",
        "\n",
        "print(a)"
      ],
      "metadata": {
        "id": "nyMxst3lr1c4",
        "outputId": "19e98227-5875-4988-8373-576219a5380e",
        "colab": {
          "base_uri": "https://localhost:8080/"
        }
      },
      "execution_count": 22,
      "outputs": [
        {
          "output_type": "stream",
          "name": "stdout",
          "text": [
            "<re.Match object; span=(0, 19), match='jjw123fdafdasfdafa9'>\n"
          ]
        }
      ]
    },
    {
      "cell_type": "code",
      "source": [
        "import re\n",
        "\n",
        "txt = \"The rain in Spain\"\n",
        "x = re.findall(\"ssshhhrrrrjfff\", txt)\n",
        "print(x)"
      ],
      "metadata": {
        "id": "rDe7v8bOruZu",
        "outputId": "9ee1ec43-539f-4e4f-e44b-785606bbc1a7",
        "colab": {
          "base_uri": "https://localhost:8080/"
        }
      },
      "execution_count": 21,
      "outputs": [
        {
          "output_type": "stream",
          "name": "stdout",
          "text": [
            "[]\n"
          ]
        }
      ]
    },
    {
      "cell_type": "code",
      "source": [
        "import re\n",
        "\n",
        "txt = \"The rain in Spain\"\n",
        "x = re.findall(\"Coimbaore\", txt)\n",
        "print(x)"
      ],
      "metadata": {
        "id": "1RsKzfVOqx_M",
        "outputId": "1e832498-ffa8-4fe4-c085-55e9698c222f",
        "colab": {
          "base_uri": "https://localhost:8080/"
        }
      },
      "execution_count": 20,
      "outputs": [
        {
          "output_type": "stream",
          "name": "stdout",
          "text": [
            "[]\n"
          ]
        }
      ]
    },
    {
      "cell_type": "code",
      "source": [
        "def derive(self, exc):\n",
        "        return MyGroup(self.message, exc)\n",
        "try:\n",
        "   raise e\n",
        "except Exception as e:\n",
        "   exc = e"
      ],
      "metadata": {
        "id": "npy6T3UzqS2Z"
      },
      "execution_count": 17,
      "outputs": []
    },
    {
      "cell_type": "code",
      "source": [
        "some_list = ['a', 'b', 'c', 'b', 'd', 'm', 'n', 'n']\n",
        "duplicates = list(set([x for x in some_list if some_list.count(x) > 1]))\n",
        "print(duplicates)"
      ],
      "metadata": {
        "id": "09Bj3R_xqEDM",
        "outputId": "c166e5cd-ba42-4d97-c4cb-3b587feb1f32",
        "colab": {
          "base_uri": "https://localhost:8080/"
        }
      },
      "execution_count": 13,
      "outputs": [
        {
          "output_type": "stream",
          "name": "stdout",
          "text": [
            "['b', 'n']\n"
          ]
        }
      ]
    },
    {
      "cell_type": "code",
      "source": [
        "some_list = ['a', 'b', 'c', 'b', 'd', 'm', 'n', 'n']\n",
        "\n",
        "duplicates = []\n",
        "for value in some_list:\n",
        "    if some_list.count(value) > 1:\n",
        "        if value not in duplicates:\n",
        "            duplicates.append(value)\n",
        "\n",
        "print(duplicates)"
      ],
      "metadata": {
        "id": "NItocIynpZty",
        "outputId": "adf414e4-bbc2-4c26-c6cb-68157fc35c60",
        "colab": {
          "base_uri": "https://localhost:8080/"
        }
      },
      "execution_count": 12,
      "outputs": [
        {
          "output_type": "stream",
          "name": "stdout",
          "text": [
            "['b', 'n']\n"
          ]
        }
      ]
    },
    {
      "cell_type": "code",
      "source": [
        "print(list(map(lambda num: num**2, [1,2,3])))\n",
        "\n",
        "a = [(0, 2), (5, 2), (9, 9), (10, -1)]\n",
        "a.sort(key=lambda x: x[1])\n",
        "\n",
        "print(a)"
      ],
      "metadata": {
        "id": "37Em30p3pNyz",
        "outputId": "ed2c9b92-ae03-462c-e732-d2844bc3f582",
        "colab": {
          "base_uri": "https://localhost:8080/"
        }
      },
      "execution_count": 11,
      "outputs": [
        {
          "output_type": "stream",
          "name": "stdout",
          "text": [
            "[1, 4, 9]\n",
            "[(10, -1), (0, 2), (5, 2), (9, 9)]\n"
          ]
        }
      ]
    },
    {
      "cell_type": "code",
      "source": [
        "from functools import reduce\n",
        "my_pets = ['sisi', 'bibi', 'titi', 'carla']\n",
        "\n",
        "def capitalize(string):\n",
        "    return string.upper()\n",
        "\n",
        "print(list(map(capitalize, my_pets)))\n",
        "\n",
        "my_strings = ['a', 'b', 'c', 'd', 'e']\n",
        "my_numbers = [5,4,3,2,1]\n",
        "\n",
        "print(list(zip(my_strings, sorted(my_numbers))))\n",
        "\n",
        "scores = [73, 20, 65, 19, 76, 100, 88]\n",
        "\n",
        "def is_smart_student(score):\n",
        "    return score > 50\n",
        "\n",
        "print(list(filter(is_smart_student, scores)))\n",
        "\n",
        "def accumulator(acc, item):\n",
        "    return acc + item\n",
        "\n",
        "print(reduce(accumulator, (my_numbers + scores)))"
      ],
      "metadata": {
        "id": "3yMVy5eboxj1",
        "outputId": "a59a0121-b5e6-4e34-d890-45eb22fdf106",
        "colab": {
          "base_uri": "https://localhost:8080/"
        }
      },
      "execution_count": 10,
      "outputs": [
        {
          "output_type": "stream",
          "name": "stdout",
          "text": [
            "['SISI', 'BIBI', 'TITI', 'CARLA']\n",
            "[('a', 1), ('b', 2), ('c', 3), ('d', 4), ('e', 5)]\n",
            "[73, 65, 76, 100, 88]\n",
            "456\n"
          ]
        }
      ]
    },
    {
      "cell_type": "code",
      "source": [
        "from functools import reduce\n",
        "my_pets = ['sisi', 'bibi', 'titi', 'carla']\n",
        "\n",
        "my_strings = ['a', 'b', 'c', 'd', 'e']\n",
        "my_numbers = [5,4,3,2,1]\n",
        "scores = [73, 20, 65, 19, 76, 100, 88]\n"
      ],
      "metadata": {
        "id": "Iu2-m4vJoS9i"
      },
      "execution_count": 9,
      "outputs": []
    },
    {
      "cell_type": "code",
      "source": [
        "class A:\n",
        "    num = 10\n",
        "\n",
        "\n",
        "class B(A):\n",
        "    pass\n",
        "\n",
        "class C(A):\n",
        "    num = 1\n",
        "\n",
        "class D(B, C):\n",
        "    pass\n",
        "print(A)\n",
        "print(D.mro())\n"
      ],
      "metadata": {
        "id": "sAqGwne7n068",
        "outputId": "080ef5a0-5ede-4b03-861a-e79b1d683334",
        "colab": {
          "base_uri": "https://localhost:8080/"
        }
      },
      "execution_count": 8,
      "outputs": [
        {
          "output_type": "stream",
          "name": "stdout",
          "text": [
            "<class '__main__.A'>\n",
            "[<class '__main__.D'>, <class '__main__.B'>, <class '__main__.C'>, <class '__main__.A'>, <class 'object'>]\n"
          ]
        }
      ]
    },
    {
      "cell_type": "code",
      "source": [
        "class SuperList(list):\n",
        "  def __len__(self):\n",
        "    return 1000\n",
        "\n",
        "super_list1 = SuperList();\n",
        "\n",
        "print(len(super_list1))\n",
        "super_list1.append(5)\n",
        "print(super_list1[0])\n",
        "print(issubclass(list, object))"
      ],
      "metadata": {
        "id": "decIzAWKny6f",
        "outputId": "9d2cfe7b-9da4-4ebc-cf03-ec35a2f8ca89",
        "colab": {
          "base_uri": "https://localhost:8080/"
        }
      },
      "execution_count": 5,
      "outputs": [
        {
          "output_type": "stream",
          "name": "stdout",
          "text": [
            "1000\n",
            "5\n",
            "True\n"
          ]
        }
      ]
    },
    {
      "cell_type": "code",
      "source": [
        "class Toy():\n",
        "  def __init__(self, color, age):\n",
        "    self.color = color\n",
        "    self.age = age\n",
        "    self.my_dict = {\n",
        "        'name':'Yoyo',\n",
        "        'has_pets': False,\n",
        "    }\n",
        "\n",
        "  def __str__(self):\n",
        "    return f\"{self.color}\"\n",
        "\n",
        "  def __len__(self):\n",
        "    return 5\n",
        "\n",
        "  def __del__(self):\n",
        "    return \"deleted\"\n",
        "\n",
        "  def __call__(self):\n",
        "      return('yes??')\n",
        "\n",
        "  def __getitem__(self,i):\n",
        "      return self.my_dict[i]\n",
        "\n",
        "\n",
        "action_figure = Toy('red', 0)\n",
        "print(action_figure.__str__())\n",
        "print(str(action_figure))\n",
        "print(len(action_figure))\n",
        "print(action_figure())\n",
        "print(action_figure['name'])"
      ],
      "metadata": {
        "id": "zPsvaPNHnYZU",
        "outputId": "099f48cc-88be-4a73-8d64-1da2ec3d4a51",
        "colab": {
          "base_uri": "https://localhost:8080/"
        }
      },
      "execution_count": 4,
      "outputs": [
        {
          "output_type": "stream",
          "name": "stdout",
          "text": [
            "red\n",
            "red\n",
            "5\n",
            "yes??\n",
            "Yoyo\n"
          ]
        }
      ]
    },
    {
      "cell_type": "code",
      "source": [
        "from inspect import isclass\n",
        "\n",
        "def subscribe(obj, x):\n",
        "    \"\"\"Return the result of the expression 'obj[x]'\"\"\"\n",
        "\n",
        "    class_of_obj = type(obj)\n",
        "\n",
        "    \n",
        "    if hasattr(class_of_obj, '__getitem__'):\n",
        "        return class_of_obj.__getitem__(obj, x)\n",
        "\n",
        "    \n",
        "    elif isclass(obj) and hasattr(obj, '__class_getitem__'):\n",
        "        return obj.__class_getitem__(x)\n",
        "\n",
        "    \n",
        "    else:\n",
        "        raise TypeError(\n",
        "            f\"'{class_of_obj.__name__}' object is not subscriptable\"\n",
        "        )"
      ],
      "metadata": {
        "id": "ZYKdU3vBnAO5"
      },
      "execution_count": 3,
      "outputs": []
    },
    {
      "cell_type": "code",
      "source": [
        "class Toy():\n",
        "  def __init__(self, color, age):\n",
        "    self.color = color\n",
        "    self.age = age\n",
        "    self.my_dict = {\n",
        "        'name':'Yoyo',\n",
        "        'has_pets': False,\n",
        "    }\n",
        "\n",
        "  def __str__(self):\n",
        "    return f\"{self.color}\"\n",
        "\n",
        "  def __len__(self):\n",
        "    return 5\n",
        "\n",
        "  def __del__(self):\n",
        "    return \"deleted\"\n",
        "\n",
        "  def __call__(self):\n",
        "      return('yes??')\n",
        "\n",
        "  def __getitem__(self,i):\n",
        "      return self.my_dict[i]\n",
        "\n",
        "\n",
        "action_figure = Toy('red', 0)\n",
        "print(action_figure.__str__())\n",
        "print(str(action_figure))\n",
        "print(len(action_figure))\n",
        "print(action_figure())\n",
        "print(action_figure['name'])"
      ],
      "metadata": {
        "id": "kB5V1ytyi9gZ",
        "outputId": "6c0432ec-58a1-4f3d-c457-63fa4c61dcad",
        "colab": {
          "base_uri": "https://localhost:8080/"
        }
      },
      "execution_count": 2,
      "outputs": [
        {
          "output_type": "stream",
          "name": "stdout",
          "text": [
            "red\n",
            "red\n",
            "5\n",
            "yes??\n",
            "Yoyo\n"
          ]
        }
      ]
    },
    {
      "cell_type": "code",
      "source": [
        "class Pets():\n",
        "    animals = []\n",
        "    def __init__(self, animals):\n",
        "        self.animals = animals\n",
        "\n",
        "    def walk(self):\n",
        "        for animal in self.animals:\n",
        "            print(animal.walk())\n",
        "\n",
        "class Cat():\n",
        "    is_lazy = True\n",
        "\n",
        "    def __init__(self, name, age):\n",
        "        self.name = name\n",
        "        self.age = age\n",
        "\n",
        "    def walk(self):\n",
        "        return f'{self.name} is just walking around'\n",
        "\n",
        "class Simon(Cat):\n",
        "    def sing(self, sounds):\n",
        "        return f'{sounds}'\n",
        "\n",
        "class Sally(Cat):\n",
        "    def sing(self, sounds):\n",
        "        return f'{sounds}'"
      ],
      "metadata": {
        "id": "iKtRlSP5wu5b"
      },
      "execution_count": null,
      "outputs": []
    },
    {
      "cell_type": "code",
      "source": [
        "class PlayerCharacter:\n",
        "  membership = True\n",
        "  def __init__(self, name, age):\n",
        "    self.name = name\n",
        "    self.age = age\n",
        "  def run(self):\n",
        "    print('run')"
      ],
      "metadata": {
        "id": "7kw1lh6pwDlq"
      },
      "execution_count": null,
      "outputs": []
    },
    {
      "cell_type": "code",
      "source": [
        "class PlayerCharacter:\n",
        "  membership = True\n",
        "  def __init__(self, name, age):\n",
        "    self.name = name\n",
        "    self.age = age\n",
        "  def shout(self):\n",
        "    print('run')\n",
        "  @classmethod\n",
        "  def adding_things(cls, num1, num2):\n",
        "    return num1 + num2\n",
        "  def PlayerCharacter():\n",
        "    player1 = PlayerCharacter('tom', 1)\n",
        "    print(player1.adding_things(2,3))"
      ],
      "metadata": {
        "id": "UbdLaFnUteu8"
      },
      "execution_count": null,
      "outputs": []
    },
    {
      "cell_type": "code",
      "source": [
        "class Cat:\n",
        "    species = 'mammal'\n",
        "    def __init__(self, name, age):\n",
        "        self.name = name\n",
        "        self.age = age\n"
      ],
      "metadata": {
        "id": "y8-VVIsPsZNe"
      },
      "execution_count": null,
      "outputs": []
    },
    {
      "cell_type": "code",
      "source": [
        "class PlayerCharacter:\n",
        "  def __init__(self, name):\n",
        "    self.name = name\n",
        "  def run(self):\n",
        "    print('run')\n",
        "\n",
        "player1 = PlayerCharacter(\"shi\")\n",
        "\n",
        "print(player1)"
      ],
      "metadata": {
        "id": "6evcuP-Tqvdo",
        "outputId": "4a359795-6afc-478c-d00a-954cb7706865",
        "colab": {
          "base_uri": "https://localhost:8080/"
        }
      },
      "execution_count": null,
      "outputs": [
        {
          "output_type": "stream",
          "name": "stdout",
          "text": [
            "<__main__.PlayerCharacter object at 0x7f7fc9d90d00>\n"
          ]
        }
      ]
    },
    {
      "cell_type": "code",
      "source": [
        "class BigObject:\n",
        "    pass\n",
        "\n",
        "obj1 = BigObject()\n",
        "obj2 = BigObject()\n",
        "obj3 = BigObject()\n",
        "\n",
        "print(type(None))\n",
        "print(type(True))\n",
        "print(type(5))\n",
        "print(type(5.5))\n",
        "print(type('hi'))\n",
        "print(type([]))\n",
        "print(type(()))\n",
        "print(type({}))\n",
        "print(type(obj1))"
      ],
      "metadata": {
        "id": "ERJq8SScpmRw",
        "outputId": "9a7a5fa8-e13e-4dad-851a-66953f4732db",
        "colab": {
          "base_uri": "https://localhost:8080/"
        }
      },
      "execution_count": null,
      "outputs": [
        {
          "output_type": "stream",
          "name": "stdout",
          "text": [
            "<class 'NoneType'>\n",
            "<class 'bool'>\n",
            "<class 'int'>\n",
            "<class 'float'>\n",
            "<class 'str'>\n",
            "<class 'list'>\n",
            "<class 'tuple'>\n",
            "<class 'dict'>\n",
            "<class '__main__.BigObject'>\n"
          ]
        }
      ]
    },
    {
      "cell_type": "code",
      "source": [
        "print(type(None))\n",
        "print(type(True))\n",
        "print(type(5))\n",
        "print(type(5.5))\n",
        "print(type('hi'))\n",
        "print(type([]))\n",
        "print(type(()))\n",
        "print(type({}))"
      ],
      "metadata": {
        "id": "2Nc1884ulzZ_",
        "outputId": "7bb1e0c4-ed33-4e4b-eb5d-334243a8f8ff",
        "colab": {
          "base_uri": "https://localhost:8080/"
        }
      },
      "execution_count": null,
      "outputs": [
        {
          "output_type": "stream",
          "name": "stdout",
          "text": [
            "<class 'NoneType'>\n",
            "<class 'bool'>\n",
            "<class 'int'>\n",
            "<class 'float'>\n",
            "<class 'str'>\n",
            "<class 'list'>\n",
            "<class 'tuple'>\n",
            "<class 'dict'>\n"
          ]
        }
      ]
    },
    {
      "cell_type": "code",
      "source": [
        "def outer():\n",
        "  x = \"local\"\n",
        "  def inner():\n",
        "    nonlocal x\n",
        "  x = \"nonlocal\"\n",
        "  print(\"inner:\", x)\n",
        "  inner()\n",
        "print(\"outer:\", x)\n",
        "outer()\n"
      ],
      "metadata": {
        "id": "oBnu8Ax-kI39",
        "outputId": "86299246-e763-4872-8c05-13f096e7a683",
        "colab": {
          "base_uri": "https://localhost:8080/"
        }
      },
      "execution_count": null,
      "outputs": [
        {
          "output_type": "stream",
          "name": "stdout",
          "text": [
            "outer: 10\n",
            "inner: nonlocal\n"
          ]
        }
      ]
    },
    {
      "cell_type": "code",
      "source": [
        "total = 10\n",
        "def count(total):\n",
        "   total += 1\n",
        "   return total\n",
        "print(count(count(count(total))))"
      ],
      "metadata": {
        "id": "N8m3AlvZixov",
        "outputId": "190fc587-1c2d-426f-9cd2-40783fda34c0",
        "colab": {
          "base_uri": "https://localhost:8080/"
        }
      },
      "execution_count": null,
      "outputs": [
        {
          "output_type": "stream",
          "name": "stdout",
          "text": [
            "13\n"
          ]
        }
      ]
    },
    {
      "cell_type": "code",
      "source": [
        "total = 100\n",
        "def count(total):\n",
        "   total += 1\n",
        "   return total\n",
        "print(count(count(count(total))))"
      ],
      "metadata": {
        "id": "H8ZdGWLnhtaN",
        "outputId": "5c173782-6a15-4db0-9ced-debd81b5996b",
        "colab": {
          "base_uri": "https://localhost:8080/"
        }
      },
      "execution_count": null,
      "outputs": [
        {
          "output_type": "stream",
          "name": "stdout",
          "text": [
            "103\n"
          ]
        }
      ]
    },
    {
      "cell_type": "code",
      "source": [
        "a = 10\n",
        "def confusion(b):\n",
        "  print(b)\n",
        "  a = 90\n",
        "confusion(300)"
      ],
      "metadata": {
        "id": "dho8kYwOgIwG",
        "outputId": "6d5a7125-3680-40be-e34c-131b2d9dd0c9",
        "colab": {
          "base_uri": "https://localhost:8080/"
        }
      },
      "execution_count": null,
      "outputs": [
        {
          "output_type": "stream",
          "name": "stdout",
          "text": [
            "300\n"
          ]
        }
      ]
    },
    {
      "cell_type": "code",
      "source": [
        "if True:\n",
        "  x = 10\n",
        "def some_function():\n",
        "  total = 100\n",
        "print(x)"
      ],
      "metadata": {
        "id": "VIjT0EtwfD76",
        "outputId": "d393a0b5-13f8-4c55-8a82-a7490005d14d",
        "colab": {
          "base_uri": "https://localhost:8080/"
        }
      },
      "execution_count": null,
      "outputs": [
        {
          "output_type": "stream",
          "name": "stdout",
          "text": [
            "10\n"
          ]
        }
      ]
    },
    {
      "cell_type": "code",
      "source": [
        "a = 'helllloooooooooooooooooooooo'\n",
        "if((n := len(a)) > 10):\n",
        "  print(f\"too long {n} elements\")\n",
        "while ((n := len(a)) > 1):\n",
        "  print(n)\n",
        "  a = a[:-1]\n",
        "print(a)"
      ],
      "metadata": {
        "id": "Ke6U9YwgcUD8",
        "outputId": "b4588c3b-f704-4679-f77f-940ffb5fc9c9",
        "colab": {
          "base_uri": "https://localhost:8080/"
        }
      },
      "execution_count": null,
      "outputs": [
        {
          "output_type": "stream",
          "name": "stdout",
          "text": [
            "too long 28 elements\n",
            "28\n",
            "27\n",
            "26\n",
            "25\n",
            "24\n",
            "23\n",
            "22\n",
            "21\n",
            "20\n",
            "19\n",
            "18\n",
            "17\n",
            "16\n",
            "15\n",
            "14\n",
            "13\n",
            "12\n",
            "11\n",
            "10\n",
            "9\n",
            "8\n",
            "7\n",
            "6\n",
            "5\n",
            "4\n",
            "3\n",
            "2\n",
            "h\n"
          ]
        }
      ]
    },
    {
      "cell_type": "code",
      "source": [
        "def test(a):\n",
        "  '''\n",
        "  Info : this function tests and prints param\n",
        "  '''\n",
        "  print(a)\n",
        "\n",
        "\n",
        "help(test.__doc__)"
      ],
      "metadata": {
        "id": "UK8SZ6V9CO8U",
        "outputId": "3127b19c-7950-4899-cf8d-dc8d039d1e29",
        "colab": {
          "base_uri": "https://localhost:8080/"
        }
      },
      "execution_count": null,
      "outputs": [
        {
          "output_type": "stream",
          "name": "stdout",
          "text": [
            "No Python documentation found for 'Info : this function tests and prints param'.\n",
            "Use help() to get the interactive help utility.\n",
            "Use help(str) for help on the str class.\n",
            "\n"
          ]
        }
      ]
    },
    {
      "cell_type": "code",
      "source": [
        "def test(a):\n",
        "  '''\n",
        "  Info : this function tests and prints param\n",
        "  '''\n",
        "  print(a)\n",
        "\n",
        "\n",
        "help(test)\n"
      ],
      "metadata": {
        "id": "quAn7o7rBfQG",
        "outputId": "a6101096-0bac-4023-88a2-92daacc0ec82",
        "colab": {
          "base_uri": "https://localhost:8080/"
        }
      },
      "execution_count": null,
      "outputs": [
        {
          "output_type": "stream",
          "name": "stdout",
          "text": [
            "Help on function test in module __main__:\n",
            "\n",
            "test(a)\n",
            "    Info : this function tests and prints param\n",
            "\n"
          ]
        }
      ]
    },
    {
      "cell_type": "code",
      "source": [
        "def checkDriverAge(age=0):\n",
        "    if int(age) < 18:\n",
        "        print(\"Sorry, you are too yound to drive this car. Powering off\")\n",
        "    elif int(age) > 18:\n",
        "        print(\"Powering On. Enjoy the ride!\");\n",
        "    elif int(age) == 18:\n",
        "        print(\"Congratulations on your first year of driving. Enjoy the ride!\")\n",
        "checkDriverAge()"
      ],
      "metadata": {
        "id": "ZGJZK8btAuRx",
        "outputId": "6aa50824-b32e-4c40-c2a4-5563c47f4fd9",
        "colab": {
          "base_uri": "https://localhost:8080/"
        }
      },
      "execution_count": null,
      "outputs": [
        {
          "output_type": "stream",
          "name": "stdout",
          "text": [
            "Sorry, you are too yound to drive this car. Powering off\n"
          ]
        }
      ]
    },
    {
      "cell_type": "code",
      "source": [
        "def checkDriverAge():\n",
        "    age = input(\"What is your age?: \")\n",
        "    if int(age) < 18:\n",
        "        print(\"Sorry, you are too young to drive this car. Powering off\")\n",
        "    elif int(age) > 18:\n",
        "        print(\"Powering On. Enjoy the ride!\");\n",
        "    elif int(age) == 18:\n",
        "        print(\"Congratulations on your first year of driving. Enjoy the ride!\")\n",
        "checkDriverAge()"
      ],
      "metadata": {
        "id": "onMecI6aAque",
        "outputId": "df6533dc-5ace-40c1-c539-eac7210d0f5b",
        "colab": {
          "base_uri": "https://localhost:8080/"
        }
      },
      "execution_count": null,
      "outputs": [
        {
          "output_type": "stream",
          "name": "stdout",
          "text": [
            "What is your age?: 22\n",
            "Powering On. Enjoy the ride!\n"
          ]
        }
      ]
    },
    {
      "cell_type": "code",
      "source": [
        "\n",
        "def sum(num1, num2):\n",
        "  return num1 + num2\n",
        "print(sum(4,5))"
      ],
      "metadata": {
        "id": "2q6C_vaLcZgx",
        "outputId": "93ca0332-ecc9-4ae4-978b-1503b692cc60",
        "colab": {
          "base_uri": "https://localhost:8080/"
        }
      },
      "execution_count": null,
      "outputs": [
        {
          "output_type": "stream",
          "name": "stdout",
          "text": [
            "9\n"
          ]
        }
      ]
    },
    {
      "cell_type": "code",
      "source": [
        "picture = [\n",
        "[0,0,0,1,0,0,0],\n",
        "[0,0,1,1,1,0,0],\n",
        "[0,1,1,1,1,1,0],\n",
        "[1,1,1,1,1,1,1],\n",
        "[0,0,0,1,0,0,0],\n",
        "[0,0,0,1,0,0,0]\n",
        "]\n",
        "def show_tree():\n",
        "  for image in picture:\n",
        "    for pixel in image:\n",
        "      if(pixel):\n",
        "        print('*', end = \"\")\n",
        "  else:\n",
        "    print('', end = \"\")\n",
        "  print('')"
      ],
      "metadata": {
        "id": "iTMicT7lbxkA"
      },
      "execution_count": null,
      "outputs": []
    },
    {
      "cell_type": "code",
      "source": [
        "some_list = ['a', 'b', 'c', 'b', 'd', 'm', 'n', 'n']\n",
        "duplicate = []\n",
        "for value in some_list:\n",
        "  if some_list.count(value) > 1:\n",
        "    duplicate.append(value)\n",
        "  print(duplicate)"
      ],
      "metadata": {
        "id": "mI3xHTwxZiER",
        "outputId": "9d41ad87-98af-4341-dfdb-3baceb01a789",
        "colab": {
          "base_uri": "https://localhost:8080/"
        }
      },
      "execution_count": null,
      "outputs": [
        {
          "output_type": "stream",
          "name": "stdout",
          "text": [
            "[]\n",
            "['b']\n",
            "['b']\n",
            "['b', 'b']\n",
            "['b', 'b']\n",
            "['b', 'b']\n",
            "['b', 'b', 'n']\n",
            "['b', 'b', 'n', 'n']\n"
          ]
        }
      ]
    },
    {
      "cell_type": "code",
      "source": [
        "picture = [\n",
        "[0,0,0,1,0,0,0],\n",
        "[0,0,1,1,1,0,0],\n",
        "[0,1,1,1,1,1,0],\n",
        "[1,1,1,1,1,1,1],\n",
        "[0,0,0,1,0,0,0],\n",
        "[0,0,0,1,0,0,0]\n",
        "]\n",
        "for image in picture:\n",
        "  for pixel in image:\n",
        "    if (pixel):\n",
        "      print('*', end =\"\")\n",
        "    else:\n",
        "      print(' ', end =\"\")\n",
        "  print('')\n"
      ],
      "metadata": {
        "id": "18C6vRtNY7aX",
        "outputId": "61538abb-6e47-4074-8ead-b9bc47c3aa1e",
        "colab": {
          "base_uri": "https://localhost:8080/"
        }
      },
      "execution_count": null,
      "outputs": [
        {
          "output_type": "stream",
          "name": "stdout",
          "text": [
            "   *   \n",
            "  ***  \n",
            " ***** \n",
            "*******\n",
            "   *   \n",
            "   *   \n"
          ]
        }
      ]
    },
    {
      "cell_type": "code",
      "source": [
        "my_list = [1,2,3]\n",
        "for item in my_list:\n",
        "  pass\n",
        "  print(item)"
      ],
      "metadata": {
        "id": "fVFmGyrHYRyJ",
        "outputId": "d6451bcf-2e3b-4eca-ff27-7c468d799cc5",
        "colab": {
          "base_uri": "https://localhost:8080/"
        }
      },
      "execution_count": null,
      "outputs": [
        {
          "output_type": "stream",
          "name": "stdout",
          "text": [
            "1\n",
            "2\n",
            "3\n"
          ]
        }
      ]
    },
    {
      "cell_type": "code",
      "source": [
        "my_list = [1,2,3]\n",
        "for item in my_list:\n",
        "  print(item)\n",
        "  continue"
      ],
      "metadata": {
        "id": "gxA2e2gtYEUG",
        "outputId": "8efcaa6a-1d6c-49d6-d363-e7d14bb35eea",
        "colab": {
          "base_uri": "https://localhost:8080/"
        }
      },
      "execution_count": null,
      "outputs": [
        {
          "output_type": "stream",
          "name": "stdout",
          "text": [
            "1\n",
            "2\n",
            "3\n"
          ]
        }
      ]
    },
    {
      "cell_type": "code",
      "source": [
        "my_list = [1,2,3]\n",
        "for item in my_list:\n",
        "  print(item)\n",
        "\n",
        "i = 0\n",
        "while i < len(my_list):\n",
        "  print(my_list[i])\n",
        "  i += 1"
      ],
      "metadata": {
        "id": "pRazLl5NW_Or",
        "outputId": "b186eaf4-41ae-42ea-a147-ed23dd79e7be",
        "colab": {
          "base_uri": "https://localhost:8080/"
        }
      },
      "execution_count": null,
      "outputs": [
        {
          "output_type": "stream",
          "name": "stdout",
          "text": [
            "1\n",
            "2\n",
            "3\n",
            "1\n",
            "2\n",
            "3\n"
          ]
        }
      ]
    },
    {
      "cell_type": "code",
      "source": [
        "i = 0\n",
        "while i < 50:\n",
        "  print(i)\n",
        "  i += 1\n",
        "else:\n",
        "  print('done with all the work')"
      ],
      "metadata": {
        "id": "qSjmUhg1Wka4",
        "outputId": "f04253cf-2e10-47cd-f99f-129268772c20",
        "colab": {
          "base_uri": "https://localhost:8080/"
        }
      },
      "execution_count": null,
      "outputs": [
        {
          "output_type": "stream",
          "name": "stdout",
          "text": [
            "0\n",
            "1\n",
            "2\n",
            "3\n",
            "4\n",
            "5\n",
            "6\n",
            "7\n",
            "8\n",
            "9\n",
            "10\n",
            "11\n",
            "12\n",
            "13\n",
            "14\n",
            "15\n",
            "16\n",
            "17\n",
            "18\n",
            "19\n",
            "20\n",
            "21\n",
            "22\n",
            "23\n",
            "24\n",
            "25\n",
            "26\n",
            "27\n",
            "28\n",
            "29\n",
            "30\n",
            "31\n",
            "32\n",
            "33\n",
            "34\n",
            "35\n",
            "36\n",
            "37\n",
            "38\n",
            "39\n",
            "40\n",
            "41\n",
            "42\n",
            "43\n",
            "44\n",
            "45\n",
            "46\n",
            "47\n",
            "48\n",
            "49\n",
            "done with all the work\n"
          ]
        }
      ]
    },
    {
      "cell_type": "code",
      "source": [
        "i = 0\n",
        "while i < 50:\n",
        "  print(i)\n",
        "  break"
      ],
      "metadata": {
        "id": "kDjBCjdqS1_i",
        "outputId": "a5d5a3bc-db54-4ba6-d2af-3cf1ce818084",
        "colab": {
          "base_uri": "https://localhost:8080/"
        }
      },
      "execution_count": null,
      "outputs": [
        {
          "output_type": "stream",
          "name": "stdout",
          "text": [
            "0\n"
          ]
        }
      ]
    },
    {
      "cell_type": "code",
      "source": [
        "for i, char in enumerate('hi'):\n",
        "  print(i, char)"
      ],
      "metadata": {
        "id": "XbNyg2a2SBDx",
        "outputId": "d25811fc-2faa-415e-d016-5216ad5765be",
        "colab": {
          "base_uri": "https://localhost:8080/"
        }
      },
      "execution_count": null,
      "outputs": [
        {
          "output_type": "stream",
          "name": "stdout",
          "text": [
            "0 h\n",
            "1 i\n"
          ]
        }
      ]
    },
    {
      "cell_type": "code",
      "source": [
        "for number in range(0,100):\n",
        "  print(number)"
      ],
      "metadata": {
        "id": "TRchv0LQRnxy",
        "outputId": "14da1609-718f-483c-e8bc-dabbe2d426c2",
        "colab": {
          "base_uri": "https://localhost:8080/"
        }
      },
      "execution_count": null,
      "outputs": [
        {
          "output_type": "stream",
          "name": "stdout",
          "text": [
            "0\n",
            "1\n",
            "2\n",
            "3\n",
            "4\n",
            "5\n",
            "6\n",
            "7\n",
            "8\n",
            "9\n",
            "10\n",
            "11\n",
            "12\n",
            "13\n",
            "14\n",
            "15\n",
            "16\n",
            "17\n",
            "18\n",
            "19\n",
            "20\n",
            "21\n",
            "22\n",
            "23\n",
            "24\n",
            "25\n",
            "26\n",
            "27\n",
            "28\n",
            "29\n",
            "30\n",
            "31\n",
            "32\n",
            "33\n",
            "34\n",
            "35\n",
            "36\n",
            "37\n",
            "38\n",
            "39\n",
            "40\n",
            "41\n",
            "42\n",
            "43\n",
            "44\n",
            "45\n",
            "46\n",
            "47\n",
            "48\n",
            "49\n",
            "50\n",
            "51\n",
            "52\n",
            "53\n",
            "54\n",
            "55\n",
            "56\n",
            "57\n",
            "58\n",
            "59\n",
            "60\n",
            "61\n",
            "62\n",
            "63\n",
            "64\n",
            "65\n",
            "66\n",
            "67\n",
            "68\n",
            "69\n",
            "70\n",
            "71\n",
            "72\n",
            "73\n",
            "74\n",
            "75\n",
            "76\n",
            "77\n",
            "78\n",
            "79\n",
            "80\n",
            "81\n",
            "82\n",
            "83\n",
            "84\n",
            "85\n",
            "86\n",
            "87\n",
            "88\n",
            "89\n",
            "90\n",
            "91\n",
            "92\n",
            "93\n",
            "94\n",
            "95\n",
            "96\n",
            "97\n",
            "98\n",
            "99\n"
          ]
        }
      ]
    },
    {
      "cell_type": "code",
      "source": [
        "user = {\n",
        "    'name' : \"rafia\",\n",
        "    'age': 22,\n",
        "    'can_swim' : False\n",
        "\n",
        "}\n",
        "for item in user: \n",
        "    print(item)"
      ],
      "metadata": {
        "id": "PvrVo7ZNON-N",
        "outputId": "1d2ef00f-1ef8-4ccf-a008-f15f758297f5",
        "colab": {
          "base_uri": "https://localhost:8080/"
        }
      },
      "execution_count": null,
      "outputs": [
        {
          "output_type": "stream",
          "name": "stdout",
          "text": [
            "name\n",
            "age\n",
            "can_swim\n"
          ]
        }
      ]
    },
    {
      "cell_type": "code",
      "source": [
        "for item in 'Zero to Mastery':\n",
        "  print(item)\n",
        "for item2 in 1,2,3:\n",
        "  print(item2)"
      ],
      "metadata": {
        "id": "cAU7gOxcOCch",
        "outputId": "38c3fdc8-e697-457d-b862-96ac4631701b",
        "colab": {
          "base_uri": "https://localhost:8080/"
        }
      },
      "execution_count": null,
      "outputs": [
        {
          "output_type": "stream",
          "name": "stdout",
          "text": [
            "Z\n",
            "e\n",
            "r\n",
            "o\n",
            " \n",
            "t\n",
            "o\n",
            " \n",
            "M\n",
            "a\n",
            "s\n",
            "t\n",
            "e\n",
            "r\n",
            "y\n",
            "1\n",
            "2\n",
            "3\n"
          ]
        }
      ]
    },
    {
      "cell_type": "code",
      "source": [
        "print(True == 1)\n",
        "print(\"\" == 1)\n",
        "print([] == 1)\n",
        "print(10 == 10.0)\n",
        "print([] == [])\n"
      ],
      "metadata": {
        "id": "rzWeHo-YMbDN",
        "outputId": "d62a23ac-30f2-43b4-c74c-8efff165ec9f",
        "colab": {
          "base_uri": "https://localhost:8080/"
        }
      },
      "execution_count": null,
      "outputs": [
        {
          "output_type": "stream",
          "name": "stdout",
          "text": [
            "True\n",
            "False\n",
            "False\n",
            "True\n",
            "True\n"
          ]
        }
      ]
    },
    {
      "cell_type": "code",
      "source": [
        "is_magician = True\n",
        "is_expert = False\n",
        "if is_magician and is_expert:\n",
        "  print('you are a master magician')\n",
        "elif is_magician and not is_expert:\n",
        "  print(\"atleast you are getting there\")\n",
        "elif not is_magician:\n",
        "  print(\"you need magic powers\")"
      ],
      "metadata": {
        "id": "nsPCxDocLNNz",
        "outputId": "2570bc11-b211-4e24-c778-a29c827d510b",
        "colab": {
          "base_uri": "https://localhost:8080/"
        }
      },
      "execution_count": null,
      "outputs": [
        {
          "output_type": "stream",
          "name": "stdout",
          "text": [
            "atleast you are getting there\n"
          ]
        }
      ]
    },
    {
      "cell_type": "code",
      "source": [
        "print(1<2<3<4)"
      ],
      "metadata": {
        "id": "iYJsQBWwJSx2",
        "outputId": "b5a415f8-339e-4094-d46c-fdf35586d397",
        "colab": {
          "base_uri": "https://localhost:8080/"
        }
      },
      "execution_count": null,
      "outputs": [
        {
          "output_type": "stream",
          "name": "stdout",
          "text": [
            "True\n"
          ]
        }
      ]
    },
    {
      "cell_type": "code",
      "source": [
        "print(1<2>3>4)"
      ],
      "metadata": {
        "id": "jkpAGVpPI0yv",
        "outputId": "ac33196c-cd86-4d41-d18c-03f31d3e9aeb",
        "colab": {
          "base_uri": "https://localhost:8080/"
        }
      },
      "execution_count": null,
      "outputs": [
        {
          "output_type": "stream",
          "name": "stdout",
          "text": [
            "False\n"
          ]
        }
      ]
    },
    {
      "cell_type": "code",
      "source": [
        "is_Friend = True\n",
        "is_User = False\n",
        "if is_Friend or is_User:\n",
        "  print('best friends forever')"
      ],
      "metadata": {
        "id": "ZNoJxlwFHq6h",
        "outputId": "089a75ca-6d5a-4c18-9f44-9ea324a46673",
        "colab": {
          "base_uri": "https://localhost:8080/"
        }
      },
      "execution_count": null,
      "outputs": [
        {
          "output_type": "stream",
          "name": "stdout",
          "text": [
            "best friends forever\n"
          ]
        }
      ]
    },
    {
      "cell_type": "code",
      "source": [
        "is_friend = True\n",
        "can_message = \"message allowed\" if is_friend else \"not allowed to message\"\n",
        "print(can_message)"
      ],
      "metadata": {
        "id": "RF5mTeJgGruY",
        "outputId": "02453b01-5f62-414c-d779-d803e078f11e",
        "colab": {
          "base_uri": "https://localhost:8080/"
        }
      },
      "execution_count": null,
      "outputs": [
        {
          "output_type": "stream",
          "name": "stdout",
          "text": [
            "message allowed\n"
          ]
        }
      ]
    },
    {
      "cell_type": "code",
      "source": [],
      "metadata": {
        "id": "OthRn_nSGrmN"
      },
      "execution_count": null,
      "outputs": []
    },
    {
      "cell_type": "code",
      "source": [
        "is_old = bool('hello')\n",
        "is_licensed = bool(5)\n",
        "print(bool('hello'))\n",
        "print(bool(5))\n",
        "\n",
        "if is_old:\n",
        "  print('you are old enough to drive!')\n",
        "else:\n",
        "  print('checkcheck')"
      ],
      "metadata": {
        "id": "9KnEZGuNFYzN",
        "outputId": "c3e24de0-b6dd-4ee5-b1b6-d388940a04ba",
        "colab": {
          "base_uri": "https://localhost:8080/"
        }
      },
      "execution_count": null,
      "outputs": [
        {
          "output_type": "stream",
          "name": "stdout",
          "text": [
            "True\n",
            "True\n",
            "you are old enough to drive!\n"
          ]
        }
      ]
    },
    {
      "cell_type": "code",
      "source": [
        "is_old = True\n",
        "is_licensed = True\n",
        "\n",
        "if is_old:\n",
        "  print('you are old enough to drive!')\n",
        "else:\n",
        "  print('checkcheck')"
      ],
      "metadata": {
        "id": "FacmUInxDxsQ",
        "outputId": "c2ae3195-7e31-4a32-df3f-ccc8e89cce96",
        "colab": {
          "base_uri": "https://localhost:8080/"
        }
      },
      "execution_count": null,
      "outputs": [
        {
          "output_type": "stream",
          "name": "stdout",
          "text": [
            "you are old enough to drive!\n"
          ]
        }
      ]
    },
    {
      "cell_type": "code",
      "source": [
        "is_old = True\n",
        "is_licensed = True\n",
        "\n",
        "if is_old:\n",
        "  print('you are old enough to drive!')\n",
        "  print('checkcheck')"
      ],
      "metadata": {
        "id": "USLR1mOwDLt-",
        "outputId": "2c6d9444-97d4-496b-d604-4309a18cd652",
        "colab": {
          "base_uri": "https://localhost:8080/"
        }
      },
      "execution_count": null,
      "outputs": [
        {
          "output_type": "stream",
          "name": "stdout",
          "text": [
            "you are old enough to drive!\n",
            "checkcheck\n"
          ]
        }
      ]
    },
    {
      "cell_type": "code",
      "source": [
        "my_set = {1,2,3,4,5}\n",
        "your_set ={4,5,6,7,8,9,10}\n",
        "\n",
        "print(my_set.union(your_set))\n"
      ],
      "metadata": {
        "id": "GGAkh1MYws-l",
        "outputId": "599850d6-aa5d-4c26-919c-03080a9a84e4",
        "colab": {
          "base_uri": "https://localhost:8080/"
        }
      },
      "execution_count": null,
      "outputs": [
        {
          "output_type": "stream",
          "name": "stdout",
          "text": [
            "{1, 2, 3, 4, 5, 6, 7, 8, 9, 10}\n"
          ]
        }
      ]
    },
    {
      "cell_type": "code",
      "source": [
        "my_set = {1,2,3,4,5}\n",
        "your_set ={4,5,6,7,8,9,10}\n",
        "\n",
        "print(my_set.intersection(your_set))\n"
      ],
      "metadata": {
        "id": "r0MNRdAtwfYY",
        "outputId": "2d4c7f13-7f49-45ef-8aec-b8aa1793b14e",
        "colab": {
          "base_uri": "https://localhost:8080/"
        }
      },
      "execution_count": null,
      "outputs": [
        {
          "output_type": "stream",
          "name": "stdout",
          "text": [
            "{4, 5}\n"
          ]
        }
      ]
    },
    {
      "cell_type": "code",
      "source": [
        "my_set = {1,2,3,4,5}\n",
        "your_set ={4,5,6,7,8,9,10}\n",
        "\n",
        "print(my_set.difference(your_set))\n",
        "print(my_set)"
      ],
      "metadata": {
        "id": "-hSswJonwSrQ",
        "outputId": "27e732f9-3fdf-4c06-df2e-3e675430344e",
        "colab": {
          "base_uri": "https://localhost:8080/"
        }
      },
      "execution_count": null,
      "outputs": [
        {
          "output_type": "stream",
          "name": "stdout",
          "text": [
            "{1, 2, 3}\n",
            "{1, 2, 3, 4, 5}\n"
          ]
        }
      ]
    },
    {
      "cell_type": "code",
      "source": [
        "my_set = {1,2,3,4,5}\n",
        "your_set ={4,5,6,7,8,9,10}\n",
        "\n",
        "print(my_set.discard(5))\n",
        "print(my_set)"
      ],
      "metadata": {
        "id": "4RH9FVeCvyIn",
        "outputId": "51d23e23-8ce1-4155-be49-5cc8e8914973",
        "colab": {
          "base_uri": "https://localhost:8080/"
        }
      },
      "execution_count": null,
      "outputs": [
        {
          "output_type": "stream",
          "name": "stdout",
          "text": [
            "None\n",
            "{1, 2, 3, 4}\n"
          ]
        }
      ]
    },
    {
      "cell_type": "code",
      "source": [
        "my_set = {1,2,3,4,5}\n",
        "your_set ={4,5,6,7,8,9,10}\n",
        "\n",
        "print(my_set.difference(your_set))"
      ],
      "metadata": {
        "id": "_0n-IYbAvgSI",
        "outputId": "994cc6c8-39f0-4163-ed58-b9269686d694",
        "colab": {
          "base_uri": "https://localhost:8080/"
        }
      },
      "execution_count": null,
      "outputs": [
        {
          "output_type": "stream",
          "name": "stdout",
          "text": [
            "{1, 2, 3}\n"
          ]
        }
      ]
    },
    {
      "cell_type": "code",
      "source": [
        "my_set = {1,2,3,4,5}\n",
        "my_set.add(100)\n",
        "my_set.add(2)\n",
        "print(my_set)"
      ],
      "metadata": {
        "id": "TAl4KCQzuZri",
        "outputId": "50da25c6-f966-4a0d-f095-5691595b27fb",
        "colab": {
          "base_uri": "https://localhost:8080/"
        }
      },
      "execution_count": null,
      "outputs": [
        {
          "output_type": "stream",
          "name": "stdout",
          "text": [
            "{1, 2, 3, 4, 5, 100}\n"
          ]
        }
      ]
    },
    {
      "cell_type": "code",
      "source": [
        "my_tuple = (1, 2, 3, 4, 5)\n",
        "new_tuple = my_tuple[1:4]\n",
        "print(new_tuple)"
      ],
      "metadata": {
        "id": "4JGxkqBUsLCN",
        "outputId": "61b8dd29-2f9c-4ba5-f85c-33e9b5abeb15",
        "colab": {
          "base_uri": "https://localhost:8080/"
        }
      },
      "execution_count": null,
      "outputs": [
        {
          "output_type": "stream",
          "name": "stdout",
          "text": [
            "(2, 3, 4)\n"
          ]
        }
      ]
    },
    {
      "cell_type": "code",
      "source": [
        "user = {\n",
        "    'basket' : [1,2,3],\n",
        "    'greet' : 'hello',\n",
        "    'age'  : 20\n",
        "}\n",
        "print('hello' in user.keys())"
      ],
      "metadata": {
        "id": "I0VUC-a3qzU5",
        "outputId": "5425ebbd-5a11-4909-ccda-1add9fea7b52",
        "colab": {
          "base_uri": "https://localhost:8080/"
        }
      },
      "execution_count": null,
      "outputs": [
        {
          "output_type": "stream",
          "name": "stdout",
          "text": [
            "False\n"
          ]
        }
      ]
    },
    {
      "cell_type": "code",
      "source": [
        "user = {\n",
        "    'basket' : [1,2,3],\n",
        "    'greet' : 'hello',\n",
        "    'age'  : 20\n",
        "}\n",
        "print('hello' in user.values())"
      ],
      "metadata": {
        "id": "tnVOhSI9qhwP",
        "outputId": "34ff5a84-f834-49bf-95e5-a1ff8f95f8ff",
        "colab": {
          "base_uri": "https://localhost:8080/"
        }
      },
      "execution_count": null,
      "outputs": [
        {
          "output_type": "stream",
          "name": "stdout",
          "text": [
            "True\n"
          ]
        }
      ]
    },
    {
      "cell_type": "code",
      "source": [
        "user = {\n",
        "    'basket' : [1,2,3],\n",
        "    'greet' : 'hello',\n",
        "    'age'  : 20\n",
        "}\n",
        "print(user.get('age'))"
      ],
      "metadata": {
        "id": "kXS0QKzgp5ni",
        "outputId": "2c8924ed-6a34-4dd0-8062-9cf5e0c44cd1",
        "colab": {
          "base_uri": "https://localhost:8080/"
        }
      },
      "execution_count": null,
      "outputs": [
        {
          "output_type": "stream",
          "name": "stdout",
          "text": [
            "20\n"
          ]
        }
      ]
    },
    {
      "cell_type": "code",
      "source": [
        "a,b,c, * other, d = [1,2,3,4,5,6,7,8,9]\n",
        "print(a)\n",
        "print(b)\n",
        "print(c)\n",
        "print(other)\n",
        "print(d)"
      ],
      "metadata": {
        "id": "IW0-VA5ilceG",
        "outputId": "1f88b3a1-a277-4df3-a51f-80d6f8204e1f",
        "colab": {
          "base_uri": "https://localhost:8080/"
        }
      },
      "execution_count": null,
      "outputs": [
        {
          "output_type": "stream",
          "name": "stdout",
          "text": [
            "1\n",
            "2\n",
            "3\n",
            "[4, 5, 6, 7, 8]\n",
            "9\n"
          ]
        }
      ]
    },
    {
      "cell_type": "code",
      "source": [
        "dict = {'a':1, 'b' : 'hellloo', 'c': True}\n",
        "print(dict['c'])"
      ],
      "metadata": {
        "id": "5XZGBMQ5nk5P",
        "outputId": "5008415e-0990-471a-bdc2-0aa734a0cf45",
        "colab": {
          "base_uri": "https://localhost:8080/"
        }
      },
      "execution_count": null,
      "outputs": [
        {
          "output_type": "stream",
          "name": "stdout",
          "text": [
            "True\n"
          ]
        }
      ]
    },
    {
      "cell_type": "code",
      "source": [
        "dict = {'a':1, 'b' : 2, 'c':7}\n",
        "print(dict)"
      ],
      "metadata": {
        "id": "yr3e1-anm3Fe",
        "outputId": "f1d92796-08dc-46da-8e04-bbf6a322f2a7",
        "colab": {
          "base_uri": "https://localhost:8080/"
        }
      },
      "execution_count": null,
      "outputs": [
        {
          "output_type": "stream",
          "name": "stdout",
          "text": [
            "{'a': 1, 'b': 2, 'c': 7}\n"
          ]
        }
      ]
    },
    {
      "cell_type": "code",
      "source": [
        "basket = ['a','b','z','v','d']\n",
        "basket.sort()\n",
        "basket.reverse()\n",
        "print(basket[::1])"
      ],
      "metadata": {
        "id": "vACk4IjMkdbf",
        "outputId": "3b16ec10-c496-4284-86fa-81a065df185f",
        "colab": {
          "base_uri": "https://localhost:8080/"
        }
      },
      "execution_count": null,
      "outputs": [
        {
          "output_type": "stream",
          "name": "stdout",
          "text": [
            "['z', 'v', 'd', 'b', 'a']\n"
          ]
        }
      ]
    },
    {
      "cell_type": "code",
      "source": [
        "basket.pop()\n",
        "print(basket)"
      ],
      "metadata": {
        "id": "4-WbTbN3gO7-",
        "outputId": "9a4f77bb-425c-42a2-fede-800d9f527108",
        "colab": {
          "base_uri": "https://localhost:8080/"
        }
      },
      "execution_count": null,
      "outputs": [
        {
          "output_type": "stream",
          "name": "stdout",
          "text": [
            "[1, 2, 3, 4, 5]\n"
          ]
        }
      ]
    },
    {
      "cell_type": "code",
      "source": [
        "basket = ['a','b','c']\n",
        "print(basket.index('b'))"
      ],
      "metadata": {
        "id": "9BOsiDDxh2GM",
        "outputId": "081cf08c-92e9-4201-a000-f6c31b3b5a7f",
        "colab": {
          "base_uri": "https://localhost:8080/"
        }
      },
      "execution_count": null,
      "outputs": [
        {
          "output_type": "stream",
          "name": "stdout",
          "text": [
            "1\n"
          ]
        }
      ]
    },
    {
      "cell_type": "code",
      "source": [
        "basket = ['a','b','z','v','d']\n",
        "basket.sort()\n",
        "print(basket)"
      ],
      "metadata": {
        "id": "3EijiS6Ej-Xl",
        "outputId": "4ef883a7-8f06-4c48-eb4a-ef955a7c979d",
        "colab": {
          "base_uri": "https://localhost:8080/"
        }
      },
      "execution_count": null,
      "outputs": [
        {
          "output_type": "stream",
          "name": "stdout",
          "text": [
            "['a', 'b', 'd', 'v', 'z']\n"
          ]
        }
      ]
    },
    {
      "cell_type": "code",
      "source": [
        "basket = [1,2,3,4,5]\n",
        "new_list = basket.append(100)\n",
        "print(basket)\n",
        "print(new_list)"
      ],
      "metadata": {
        "id": "3ZYS2HNIfc4e",
        "outputId": "f6cbb4d3-0dfb-4dc1-d936-d74fcefad4f8",
        "colab": {
          "base_uri": "https://localhost:8080/"
        }
      },
      "execution_count": null,
      "outputs": [
        {
          "output_type": "stream",
          "name": "stdout",
          "text": [
            "[1, 2, 3, 4, 5, 100]\n",
            "None\n"
          ]
        }
      ]
    },
    {
      "cell_type": "code",
      "source": [
        "amazon_cart = ['notebooks', 'sunglasses', 'toys', 'bicycles']\n",
        "print(amazon_cart[0:2])"
      ],
      "metadata": {
        "id": "IRHsVzGZWh3x",
        "outputId": "8baa66dd-e655-46e7-a2f8-70d7bf615fc5",
        "colab": {
          "base_uri": "https://localhost:8080/"
        }
      },
      "execution_count": null,
      "outputs": [
        {
          "output_type": "stream",
          "name": "stdout",
          "text": [
            "['notebooks', 'sunglasses']\n"
          ]
        }
      ]
    },
    {
      "cell_type": "code",
      "source": [],
      "metadata": {
        "id": "AKv4uvG1XOlI"
      },
      "execution_count": null,
      "outputs": []
    },
    {
      "cell_type": "code",
      "source": [
        "amazon_cart[0] = 'laptops'\n",
        "print(amazon_cart)"
      ],
      "metadata": {
        "id": "qAvX4IkBXDoK",
        "outputId": "075582b6-ce63-4d3f-dde8-866988f653ff",
        "colab": {
          "base_uri": "https://localhost:8080/"
        }
      },
      "execution_count": null,
      "outputs": [
        {
          "output_type": "stream",
          "name": "stdout",
          "text": [
            "['laptops', 'sunglasses', 'toys', 'bicycles']\n"
          ]
        }
      ]
    },
    {
      "cell_type": "code",
      "source": [
        "matrix = [[0,1,2],[3,4,5],[6,7,8]]\n",
        "\n",
        "print(matrix[0][2])"
      ],
      "metadata": {
        "id": "y_-3dJMtbDQK",
        "outputId": "fcc87370-d516-4aba-c6cb-a0d6a2ee02db",
        "colab": {
          "base_uri": "https://localhost:8080/"
        }
      },
      "execution_count": null,
      "outputs": [
        {
          "output_type": "stream",
          "name": "stdout",
          "text": [
            "2\n"
          ]
        }
      ]
    },
    {
      "cell_type": "code",
      "source": [
        "basket = [1,2,3]\n",
        "print(len(basket))"
      ],
      "metadata": {
        "id": "mDVWRuv4dq4K",
        "outputId": "fa97f8db-c3b1-410f-8c03-188ad3329b1c",
        "colab": {
          "base_uri": "https://localhost:8080/"
        }
      },
      "execution_count": null,
      "outputs": [
        {
          "output_type": "stream",
          "name": "stdout",
          "text": [
            "3\n"
          ]
        }
      ]
    },
    {
      "cell_type": "code",
      "source": [
        "username = input('what is your name?')\n",
        "password = input('what is your password?')\n",
        "\n",
        "password_length = len(password)\n",
        "hidden_password = '*' * password_length\n",
        "\n",
        "print(f'{username}, your password, {hidden_password}, is {password_length} letters long')"
      ],
      "metadata": {
        "id": "K1_xbOil0-cy",
        "outputId": "dcdc030e-f44c-4389-b6ea-a5b063b250d0",
        "colab": {
          "base_uri": "https://localhost:8080/"
        }
      },
      "execution_count": null,
      "outputs": [
        {
          "output_type": "stream",
          "name": "stdout",
          "text": [
            "what is your name?shirin\n",
            "what is your password?Shirinrafia*123\n",
            "shirin, your password, ***************, is 15 letters long\n"
          ]
        }
      ]
    },
    {
      "cell_type": "markdown",
      "source": [
        "# **HighIQ Python Trainer Notebook** *(Zero to One)*"
      ],
      "metadata": {
        "id": "Z4FTcvTAdQKq"
      }
    },
    {
      "cell_type": "code",
      "source": [],
      "metadata": {
        "id": "0UFInqk0QvT2"
      },
      "execution_count": null,
      "outputs": []
    },
    {
      "cell_type": "code",
      "source": [
        "amazon_cart = ['notebooks', 'sunglasses']\n",
        "print(amazon_cart[0])"
      ],
      "metadata": {
        "id": "-30YLwcpTJ0M",
        "outputId": "3aa25909-f911-46e4-a44c-83646f71d8c3",
        "colab": {
          "base_uri": "https://localhost:8080/"
        }
      },
      "execution_count": null,
      "outputs": [
        {
          "output_type": "stream",
          "name": "stdout",
          "text": [
            "notebooks\n"
          ]
        }
      ]
    },
    {
      "cell_type": "code",
      "source": [
        "birth_year = input('what year you were born?')\n",
        "\n",
        "age = 2022 - int(birth_year)\n",
        "\n",
        "print(f'your age is : {age} ')"
      ],
      "metadata": {
        "id": "iBes6UBd0_yW",
        "outputId": "e35036c7-4820-41d6-b285-881ffe5467f2",
        "colab": {
          "base_uri": "https://localhost:8080/"
        }
      },
      "execution_count": null,
      "outputs": [
        {
          "output_type": "stream",
          "name": "stdout",
          "text": [
            "what year you were born?2000\n",
            "your age is : 22 \n"
          ]
        }
      ]
    },
    {
      "cell_type": "code",
      "source": [
        "name = 'shirin'\n",
        "is_nice = False\n",
        "is_nice = True\n",
        "\n",
        "print(bool(0))"
      ],
      "metadata": {
        "id": "dJVQLv7jz5GY",
        "outputId": "1076de1c-dbdf-46aa-bde3-e3fa6a505f64",
        "colab": {
          "base_uri": "https://localhost:8080/"
        }
      },
      "execution_count": null,
      "outputs": [
        {
          "output_type": "stream",
          "name": "stdout",
          "text": [
            "False\n"
          ]
        }
      ]
    },
    {
      "cell_type": "code",
      "source": [
        "selfish = 'me me me'\n",
        "print(selfish[6]) \n"
      ],
      "metadata": {
        "id": "5pgGY2wquZzr",
        "outputId": "24f5cc7d-2e90-4963-f0f6-7627b03516f6",
        "colab": {
          "base_uri": "https://localhost:8080/"
        }
      },
      "execution_count": null,
      "outputs": [
        {
          "output_type": "stream",
          "name": "stdout",
          "text": [
            "m\n"
          ]
        }
      ]
    },
    {
      "cell_type": "code",
      "source": [
        "weather = \"It's \\\"kind of\\\"sunny\"\n",
        "print(weather)"
      ],
      "metadata": {
        "id": "GPA-QfIKuQRa",
        "outputId": "e9fe0782-aeeb-4c58-e5ae-4d6023914c0a",
        "colab": {
          "base_uri": "https://localhost:8080/"
        }
      },
      "execution_count": null,
      "outputs": [
        {
          "output_type": "stream",
          "name": "stdout",
          "text": [
            "It's \"kind of\"sunny\n"
          ]
        }
      ]
    },
    {
      "cell_type": "code",
      "source": [
        "a = str(100)\n",
        "b = int(a)\n",
        "c = type(b)\n",
        "print(c)"
      ],
      "metadata": {
        "id": "ygNRld8WtKzQ",
        "outputId": "59f74247-1651-46b3-a8df-b4cf76198d68",
        "colab": {
          "base_uri": "https://localhost:8080/"
        }
      },
      "execution_count": null,
      "outputs": [
        {
          "output_type": "stream",
          "name": "stdout",
          "text": [
            "<class 'int'>\n"
          ]
        }
      ]
    },
    {
      "cell_type": "code",
      "source": [
        "print(type(int(str(100))))"
      ],
      "metadata": {
        "id": "JYhNy3ZTtDh6",
        "outputId": "6c31793d-7aba-465e-abbf-623dad4f0a01",
        "colab": {
          "base_uri": "https://localhost:8080/"
        }
      },
      "execution_count": null,
      "outputs": [
        {
          "output_type": "stream",
          "name": "stdout",
          "text": [
            "<class 'int'>\n"
          ]
        }
      ]
    },
    {
      "cell_type": "code",
      "source": [
        "print('hey '  +  'shirin')"
      ],
      "metadata": {
        "id": "_ZxBXGq1sLW9",
        "outputId": "ec324479-987d-4d83-c34b-950278d97ab8",
        "colab": {
          "base_uri": "https://localhost:8080/"
        }
      },
      "execution_count": null,
      "outputs": [
        {
          "output_type": "stream",
          "name": "stdout",
          "text": [
            "hey shirin\n"
          ]
        }
      ]
    },
    {
      "cell_type": "code",
      "source": [
        "print(type('hi shirin'))\n",
        "long_string = '''\n",
        "WOW\n",
        "0  0\n",
        "----\n",
        "'''\n",
        "print(long_string)"
      ],
      "metadata": {
        "id": "UEunczicqOwA",
        "outputId": "6ddc4f18-4ae0-4952-8745-d7cdfb6ab4d6",
        "colab": {
          "base_uri": "https://localhost:8080/"
        }
      },
      "execution_count": null,
      "outputs": [
        {
          "output_type": "stream",
          "name": "stdout",
          "text": [
            "<class 'str'>\n",
            "\n",
            "WOW\n",
            "0  0\n",
            "----\n",
            "\n"
          ]
        }
      ]
    },
    {
      "cell_type": "code",
      "source": [
        "iq = 100\n",
        "user_age = iq/5"
      ],
      "metadata": {
        "id": "-RQu7IkMpnDN"
      },
      "execution_count": null,
      "outputs": []
    },
    {
      "cell_type": "code",
      "source": [
        "some_value = 5\n",
        "some_value = some_value + 6\n",
        "\n",
        "print(some_value)"
      ],
      "metadata": {
        "id": "SHqijHUyqC2p",
        "outputId": "aa0a3ade-54a8-4617-8b0b-66356dc731f3",
        "colab": {
          "base_uri": "https://localhost:8080/"
        }
      },
      "execution_count": null,
      "outputs": [
        {
          "output_type": "stream",
          "name": "stdout",
          "text": [
            "11\n"
          ]
        }
      ]
    },
    {
      "cell_type": "markdown",
      "source": [
        "# [**Click on this Course**](https://www.youtube.com/watch?v=eWRfhZUzrAc&t=2s)"
      ],
      "metadata": {
        "id": "Uwve7HQNa_8p"
      }
    },
    {
      "cell_type": "code",
      "source": [
        "print(bin(5))"
      ],
      "metadata": {
        "id": "78fq6CMNrMup",
        "outputId": "fafef871-c1c6-4fef-8126-0e89c3bc45b6",
        "colab": {
          "base_uri": "https://localhost:8080/"
        }
      },
      "execution_count": null,
      "outputs": [
        {
          "output_type": "stream",
          "name": "stdout",
          "text": [
            "0b101\n"
          ]
        }
      ]
    },
    {
      "cell_type": "code",
      "source": [
        "input('what is your age?')"
      ],
      "metadata": {
        "id": "TPLLVRB5kAVW",
        "outputId": "f17635d8-6e60-4391-fff7-355937e74881",
        "colab": {
          "base_uri": "https://localhost:8080/",
          "height": 53
        }
      },
      "execution_count": null,
      "outputs": [
        {
          "name": "stdout",
          "output_type": "stream",
          "text": [
            "what is your age?22\n"
          ]
        },
        {
          "output_type": "execute_result",
          "data": {
            "text/plain": [
              "'22'"
            ],
            "application/vnd.google.colaboratory.intrinsic+json": {
              "type": "string"
            }
          },
          "metadata": {},
          "execution_count": 2
        }
      ]
    },
    {
      "cell_type": "code",
      "source": [
        "print(\"shirinrafia\")"
      ],
      "metadata": {
        "id": "v2X470PKjDyl",
        "outputId": "936d6116-f123-48cf-e7b9-c8c11524afad",
        "colab": {
          "base_uri": "https://localhost:8080/"
        }
      },
      "execution_count": null,
      "outputs": [
        {
          "output_type": "stream",
          "name": "stdout",
          "text": [
            "shirinrafia\n"
          ]
        }
      ]
    },
    {
      "cell_type": "markdown",
      "source": [
        "## Variable And Functions"
      ],
      "metadata": {
        "id": "cpgKGi14bJCQ"
      }
    },
    {
      "cell_type": "code",
      "execution_count": null,
      "metadata": {
        "id": "HPoiJb3ea9IP"
      },
      "outputs": [],
      "source": []
    },
    {
      "cell_type": "markdown",
      "source": [
        "## Calling Funtions"
      ],
      "metadata": {
        "id": "nPYEMWVUbPyG"
      }
    },
    {
      "cell_type": "code",
      "source": [],
      "metadata": {
        "id": "QQg2W7qgbTld"
      },
      "execution_count": null,
      "outputs": []
    },
    {
      "cell_type": "markdown",
      "source": [
        "# Dictionaries"
      ],
      "metadata": {
        "id": "3zCwfoAsdcJc"
      }
    },
    {
      "cell_type": "code",
      "source": [],
      "metadata": {
        "id": "_DIhAalSde__"
      },
      "execution_count": null,
      "outputs": []
    },
    {
      "cell_type": "markdown",
      "source": [
        "## User Input"
      ],
      "metadata": {
        "id": "petiJbGXdfhj"
      }
    },
    {
      "cell_type": "code",
      "source": [],
      "metadata": {
        "id": "_9k1DtPvdgi1"
      },
      "execution_count": null,
      "outputs": []
    },
    {
      "cell_type": "markdown",
      "source": [
        "## Libraries, Lists, Methods"
      ],
      "metadata": {
        "id": "tzZl3DOXdprh"
      }
    },
    {
      "cell_type": "code",
      "source": [],
      "metadata": {
        "id": "_S9m4uMlds3G"
      },
      "execution_count": null,
      "outputs": []
    },
    {
      "cell_type": "markdown",
      "source": [
        "## Function Arguments"
      ],
      "metadata": {
        "id": "l-tGnRjadtV5"
      }
    },
    {
      "cell_type": "code",
      "source": [],
      "metadata": {
        "id": "EV16_MRKdumv"
      },
      "execution_count": null,
      "outputs": []
    },
    {
      "cell_type": "markdown",
      "source": [
        "## If Statements "
      ],
      "metadata": {
        "id": "03ei427ydvCH"
      }
    },
    {
      "cell_type": "code",
      "source": [],
      "metadata": {
        "id": "KLdfAJpAdw5e"
      },
      "execution_count": null,
      "outputs": []
    },
    {
      "cell_type": "markdown",
      "source": [
        "## Concatenating Strings"
      ],
      "metadata": {
        "id": "lLc9dSxAdxlO"
      }
    },
    {
      "cell_type": "code",
      "source": [],
      "metadata": {
        "id": "Fe9SwQGddzI_"
      },
      "execution_count": null,
      "outputs": []
    },
    {
      "cell_type": "markdown",
      "source": [
        "## f-strings"
      ],
      "metadata": {
        "id": "P90e3Tehdzyo"
      }
    },
    {
      "cell_type": "code",
      "source": [],
      "metadata": {
        "id": "Qgo8cE3cd1Q2"
      },
      "execution_count": null,
      "outputs": []
    },
    {
      "cell_type": "markdown",
      "source": [
        "## Else and Elif Statements"
      ],
      "metadata": {
        "id": "u_mTakxBd2kS"
      }
    },
    {
      "cell_type": "code",
      "source": [],
      "metadata": {
        "id": "zNjDnsigd2_W"
      },
      "execution_count": null,
      "outputs": []
    },
    {
      "cell_type": "markdown",
      "source": [
        "## Refactoring and Nested If"
      ],
      "metadata": {
        "id": "wS2xfKnod4eR"
      }
    },
    {
      "cell_type": "code",
      "source": [],
      "metadata": {
        "id": "rIiYmwxfd5jW"
      },
      "execution_count": null,
      "outputs": []
    },
    {
      "cell_type": "markdown",
      "source": [
        "## Accessing Dictionary Values"
      ],
      "metadata": {
        "id": "DD9fzpy-d62Y"
      }
    },
    {
      "cell_type": "code",
      "source": [],
      "metadata": {
        "id": "eY0OrKged7XW"
      },
      "execution_count": null,
      "outputs": []
    },
    {
      "cell_type": "markdown",
      "source": [
        "## Testing Game"
      ],
      "metadata": {
        "id": "6YCzWHIld9e9"
      }
    },
    {
      "cell_type": "code",
      "source": [],
      "metadata": {
        "id": "s0OEj-Gbd-On"
      },
      "execution_count": null,
      "outputs": []
    },
    {
      "cell_type": "markdown",
      "source": [
        "## Variables"
      ],
      "metadata": {
        "id": "pMILE6PCeN9p"
      }
    },
    {
      "cell_type": "code",
      "source": [],
      "metadata": {
        "id": "EVFLtjhUeOWX"
      },
      "execution_count": null,
      "outputs": []
    },
    {
      "cell_type": "markdown",
      "source": [
        "## Expressions and Statements "
      ],
      "metadata": {
        "id": "6q1iRyb2ePuB"
      }
    },
    {
      "cell_type": "code",
      "source": [],
      "metadata": {
        "id": "a3PXtTa0eREn"
      },
      "execution_count": null,
      "outputs": []
    },
    {
      "cell_type": "markdown",
      "source": [
        "## Comments"
      ],
      "metadata": {
        "id": "2rCTKhRLeRuE"
      }
    },
    {
      "cell_type": "code",
      "source": [],
      "metadata": {
        "id": "x1raHR6OeTCn"
      },
      "execution_count": null,
      "outputs": []
    },
    {
      "cell_type": "markdown",
      "source": [
        "## Data Types"
      ],
      "metadata": {
        "id": "Y4UgKDOZeTlw"
      }
    },
    {
      "cell_type": "code",
      "source": [],
      "metadata": {
        "id": "5e5xG42ReVSf"
      },
      "execution_count": null,
      "outputs": []
    },
    {
      "cell_type": "markdown",
      "source": [
        "## Operators"
      ],
      "metadata": {
        "id": "mwrnTSyGeWYd"
      }
    },
    {
      "cell_type": "code",
      "source": [],
      "metadata": {
        "id": "Mi8S3b5KeWx3"
      },
      "execution_count": null,
      "outputs": []
    },
    {
      "cell_type": "markdown",
      "source": [
        "## Arithmetic Operators"
      ],
      "metadata": {
        "id": "whKmv46teX5c"
      }
    },
    {
      "cell_type": "code",
      "source": [],
      "metadata": {
        "id": "Y4rSawE8eYTP"
      },
      "execution_count": null,
      "outputs": []
    },
    {
      "cell_type": "markdown",
      "source": [
        "## Comparison Operators"
      ],
      "metadata": {
        "id": "6FmHbmxqeZq9"
      }
    },
    {
      "cell_type": "code",
      "source": [],
      "metadata": {
        "id": "41c0Nb_QeaBZ"
      },
      "execution_count": null,
      "outputs": []
    },
    {
      "cell_type": "markdown",
      "source": [
        "## Boolean Operators"
      ],
      "metadata": {
        "id": "2-J7FeH7ebK1"
      }
    },
    {
      "cell_type": "code",
      "source": [],
      "metadata": {
        "id": "kLdYyK5XebiG"
      },
      "execution_count": null,
      "outputs": []
    },
    {
      "cell_type": "markdown",
      "source": [
        "## Bitwise Operators"
      ],
      "metadata": {
        "id": "TaKZjFosec8n"
      }
    },
    {
      "cell_type": "code",
      "source": [],
      "metadata": {
        "id": "MByGcBpOedUG"
      },
      "execution_count": null,
      "outputs": []
    },
    {
      "cell_type": "markdown",
      "source": [
        "## is & in Operators"
      ],
      "metadata": {
        "id": "hV5q9mC-eeo4"
      }
    },
    {
      "cell_type": "code",
      "source": [],
      "metadata": {
        "id": "Ndi4cnzlefAP"
      },
      "execution_count": null,
      "outputs": []
    },
    {
      "cell_type": "markdown",
      "source": [
        "## Ternary Operator"
      ],
      "metadata": {
        "id": "CUEmAwccegYF"
      }
    },
    {
      "cell_type": "code",
      "source": [],
      "metadata": {
        "id": "MF-zLeiRegw2"
      },
      "execution_count": null,
      "outputs": []
    },
    {
      "cell_type": "markdown",
      "source": [
        "## Strings"
      ],
      "metadata": {
        "id": "7L1YgOd8eh5h"
      }
    },
    {
      "cell_type": "code",
      "source": [],
      "metadata": {
        "id": "kwFNtWYkei_u"
      },
      "execution_count": null,
      "outputs": []
    },
    {
      "cell_type": "markdown",
      "source": [
        "## String Methods"
      ],
      "metadata": {
        "id": "_2IoegzLek6x"
      }
    },
    {
      "cell_type": "code",
      "source": [],
      "metadata": {
        "id": "Q6mQwv5_elY2"
      },
      "execution_count": null,
      "outputs": []
    },
    {
      "cell_type": "markdown",
      "source": [
        "## Escaping Characters"
      ],
      "metadata": {
        "id": "u9cxX7ciemf8"
      }
    },
    {
      "cell_type": "code",
      "source": [],
      "metadata": {
        "id": "qHh5l3Eiem_H"
      },
      "execution_count": null,
      "outputs": []
    },
    {
      "cell_type": "markdown",
      "source": [
        "## String Characters & Slicing"
      ],
      "metadata": {
        "id": "splRgy3JeoGJ"
      }
    },
    {
      "cell_type": "code",
      "source": [],
      "metadata": {
        "id": "6Xt-fu0Beop2"
      },
      "execution_count": null,
      "outputs": []
    },
    {
      "cell_type": "markdown",
      "source": [
        "## Booleans"
      ],
      "metadata": {
        "id": "ba0Wi85Vepwa"
      }
    },
    {
      "cell_type": "code",
      "source": [],
      "metadata": {
        "id": "Ylg0Z_8weqOf"
      },
      "execution_count": null,
      "outputs": []
    },
    {
      "cell_type": "markdown",
      "source": [
        "## Number Data Types"
      ],
      "metadata": {
        "id": "GAsbi4JFerlH"
      }
    },
    {
      "cell_type": "code",
      "source": [],
      "metadata": {
        "id": "WQuOcuvUer_X"
      },
      "execution_count": null,
      "outputs": []
    },
    {
      "cell_type": "markdown",
      "source": [
        "## Built-in Functions"
      ],
      "metadata": {
        "id": "XolXXFBaetuF"
      }
    },
    {
      "cell_type": "code",
      "source": [
        "print(round(-5.5))"
      ],
      "metadata": {
        "id": "cZiBq-tWeuJv",
        "colab": {
          "base_uri": "https://localhost:8080/"
        },
        "outputId": "ee9b7393-ad83-492f-e870-67c6a8d85dea"
      },
      "execution_count": null,
      "outputs": [
        {
          "output_type": "stream",
          "name": "stdout",
          "text": [
            "-6\n"
          ]
        }
      ]
    },
    {
      "cell_type": "markdown",
      "source": [
        "## Enums"
      ],
      "metadata": {
        "id": "I53j-y1HevDM"
      }
    },
    {
      "cell_type": "code",
      "source": [
        "from enum import Enum\n",
        "\n",
        "class State(Enum):\n",
        "  INACTIVE = 0\n",
        "  ACTIVE = 1\n",
        "\n",
        "print(State.ACTIVE)"
      ],
      "metadata": {
        "id": "NEVbNcKMevfn",
        "colab": {
          "base_uri": "https://localhost:8080/"
        },
        "outputId": "349aff5c-0d6e-4e6a-871e-5b8041e28c31"
      },
      "execution_count": null,
      "outputs": [
        {
          "output_type": "stream",
          "name": "stdout",
          "text": [
            "State.ACTIVE\n"
          ]
        }
      ]
    },
    {
      "cell_type": "markdown",
      "source": [
        "## User Input"
      ],
      "metadata": {
        "id": "TYB97bGcewsF"
      }
    },
    {
      "cell_type": "code",
      "source": [
        "print(\"What is your age? \")\n",
        "age = input()\n",
        "print(\"your age is  \"  + age)\n"
      ],
      "metadata": {
        "id": "R6Tn9dRvexUX",
        "colab": {
          "base_uri": "https://localhost:8080/"
        },
        "outputId": "623f40c2-46e7-43db-eab7-ceac8cddfab7"
      },
      "execution_count": null,
      "outputs": [
        {
          "output_type": "stream",
          "name": "stdout",
          "text": [
            "What is your age? \n",
            "22\n",
            "your age is  22\n"
          ]
        }
      ]
    },
    {
      "cell_type": "markdown",
      "source": [
        "## Control Statements"
      ],
      "metadata": {
        "id": "S7iXVmC_eyow"
      }
    },
    {
      "cell_type": "code",
      "source": [
        "condition = False\n",
        "\n",
        "if condition == True:\n",
        "  print()\n"
      ],
      "metadata": {
        "id": "CX7ztXvKey_e"
      },
      "execution_count": null,
      "outputs": []
    },
    {
      "cell_type": "markdown",
      "source": [
        "## Lists"
      ],
      "metadata": {
        "id": "-o62Jhgcez5h"
      }
    },
    {
      "cell_type": "code",
      "source": [
        "dogs = [\"Shirin\", 1, \"Rafia\", True]\n",
        "\n",
        "print(\"Shirin\" in dogs)"
      ],
      "metadata": {
        "id": "Ph58MxB2e0RX",
        "outputId": "894b3496-1b2d-48a3-8a16-486620ce43dd",
        "colab": {
          "base_uri": "https://localhost:8080/"
        }
      },
      "execution_count": null,
      "outputs": [
        {
          "output_type": "stream",
          "name": "stdout",
          "text": [
            "True\n"
          ]
        }
      ]
    },
    {
      "cell_type": "markdown",
      "source": [
        "## Sorting Lists"
      ],
      "metadata": {
        "id": "JXCNZ6obe1Rk"
      }
    },
    {
      "cell_type": "code",
      "source": [
        "from typing import ItemsView\n",
        "items = [\"shirin\", \"rafia\", \"Beau\", \"Quincy\"]\n",
        "itemscopy = items[:]\n",
        "items.sort(key=str.lower)\n",
        "\n",
        "print(items)\n",
        "print(itemscopy)"
      ],
      "metadata": {
        "id": "lQVmMqQNe1nG",
        "outputId": "4bab2563-01aa-430d-b508-9eb7c251a926",
        "colab": {
          "base_uri": "https://localhost:8080/"
        }
      },
      "execution_count": null,
      "outputs": [
        {
          "output_type": "stream",
          "name": "stdout",
          "text": [
            "['Beau', 'Quincy', 'rafia', 'shirin']\n",
            "['shirin', 'rafia', 'Beau', 'Quincy']\n"
          ]
        }
      ]
    },
    {
      "cell_type": "markdown",
      "source": [
        "## Tuples"
      ],
      "metadata": {
        "id": "v-XATXsSe2fU"
      }
    },
    {
      "cell_type": "code",
      "source": [
        "names = (\"rogger\", \"aadhil\")\n",
        "\n",
        "names[-1]\n",
        "names.index(\"rogger\")\n",
        "\n",
        "len(names)\n",
        "\n",
        "print(\"rogger\" in names)"
      ],
      "metadata": {
        "id": "lywfMI8xe2y-",
        "outputId": "bf087707-e774-4fa3-bf35-f12f2a1925e3",
        "colab": {
          "base_uri": "https://localhost:8080/"
        }
      },
      "execution_count": null,
      "outputs": [
        {
          "output_type": "stream",
          "name": "stdout",
          "text": [
            "True\n"
          ]
        }
      ]
    },
    {
      "cell_type": "markdown",
      "source": [
        "## Dictionaries"
      ],
      "metadata": {
        "id": "z51qJ72re38l"
      }
    },
    {
      "cell_type": "code",
      "source": [
        "dog = {\"name\": \"Rafia\", \"age\": 8}\n",
        "\n",
        "print(dog['name'])"
      ],
      "metadata": {
        "id": "AswcmGTke4VG",
        "outputId": "d9be609b-4f9e-4c85-fd64-96a730182df5",
        "colab": {
          "base_uri": "https://localhost:8080/"
        }
      },
      "execution_count": null,
      "outputs": [
        {
          "output_type": "stream",
          "name": "stdout",
          "text": [
            "Rafia\n"
          ]
        }
      ]
    },
    {
      "cell_type": "markdown",
      "source": [
        "## Sets"
      ],
      "metadata": {
        "id": "o93NW4-Be5cC"
      }
    },
    {
      "cell_type": "code",
      "source": [
        "set1 = {\"rafia\", \"shirin\"}\n",
        "set2 = {\"rogger\"}\n",
        "\n",
        "intersect = set1 & set2\n",
        "print(intersect)"
      ],
      "metadata": {
        "id": "v3CIIJeAe5xu",
        "outputId": "98e05763-a117-4c28-d0f1-d74985777e53",
        "colab": {
          "base_uri": "https://localhost:8080/"
        }
      },
      "execution_count": null,
      "outputs": [
        {
          "output_type": "stream",
          "name": "stdout",
          "text": [
            "set()\n"
          ]
        }
      ]
    },
    {
      "cell_type": "markdown",
      "source": [
        "## Functions"
      ],
      "metadata": {
        "id": "UlOZz1nwe66p"
      }
    },
    {
      "cell_type": "code",
      "source": [
        "def hello(name):\n",
        "  print('Hello ' + name)\n",
        "\n",
        "  hello(\"shirin\")\n",
        "  hello(\"thaaka\")"
      ],
      "metadata": {
        "id": "i4lZX_n8e7TO"
      },
      "execution_count": null,
      "outputs": []
    },
    {
      "cell_type": "markdown",
      "source": [
        "## Variable Scope"
      ],
      "metadata": {
        "id": "YfJx0wrPe8mH"
      }
    },
    {
      "cell_type": "code",
      "source": [
        "  def test():\n",
        "    age = 8\n",
        "    print(age)\n"
      ],
      "metadata": {
        "id": "96Jp-il7e9A2"
      },
      "execution_count": null,
      "outputs": []
    },
    {
      "cell_type": "markdown",
      "source": [
        "## Nested Functions "
      ],
      "metadata": {
        "id": "rsdLZV63e-VW"
      }
    },
    {
      "cell_type": "code",
      "source": [
        "def talk(phrase):\n",
        "  def say(word):\n",
        "    print(word)\n",
        "\n",
        "    words = phrase.split(' ')\n",
        "    for word in words:\n",
        "      say(word)\n",
        "\n",
        "      talk('I am going to buy milk')\n"
      ],
      "metadata": {
        "id": "C4gt9Kjoe-ve"
      },
      "execution_count": null,
      "outputs": []
    },
    {
      "cell_type": "markdown",
      "source": [
        "## Closures"
      ],
      "metadata": {
        "id": "fM8dAnvie_p6"
      }
    },
    {
      "cell_type": "code",
      "source": [
        "def counter():\n",
        "  count = 0\n",
        "\n",
        "  def increment():\n",
        "    nonlocal count\n",
        "    count = count + 1\n",
        "    return count\n",
        "\n",
        "    return increment\n",
        "    increment = counter()\n",
        "\n",
        "    print(increment()) #1\n",
        "    print(increment()) #2\n",
        "    print(increment()) #3\n"
      ],
      "metadata": {
        "id": "kZCiwrFtfADm"
      },
      "execution_count": null,
      "outputs": []
    },
    {
      "cell_type": "markdown",
      "source": [
        "## Objects"
      ],
      "metadata": {
        "id": "C02Pc0GCfBB_"
      }
    },
    {
      "cell_type": "code",
      "source": [
        "age = 8\n",
        "\n",
        "print(age.real)"
      ],
      "metadata": {
        "id": "2W0N_9JRfBZu",
        "outputId": "ea30b6c7-4a9c-4d19-b700-cee1f19a4a3c",
        "colab": {
          "base_uri": "https://localhost:8080/"
        }
      },
      "execution_count": null,
      "outputs": [
        {
          "output_type": "stream",
          "name": "stdout",
          "text": [
            "8\n"
          ]
        }
      ]
    },
    {
      "cell_type": "markdown",
      "source": [
        "## Loops"
      ],
      "metadata": {
        "id": "Q4Qhe-HufCe7"
      }
    },
    {
      "cell_type": "code",
      "source": [
        "condition = True\n",
        "while condition == True:\n",
        "  print(\"The condition is True\")\n",
        "  condition = False"
      ],
      "metadata": {
        "id": "VD4BYaZYfC52",
        "outputId": "772d05ff-7f35-4630-83a3-5716c641be30",
        "colab": {
          "base_uri": "https://localhost:8080/"
        }
      },
      "execution_count": null,
      "outputs": [
        {
          "output_type": "stream",
          "name": "stdout",
          "text": [
            "The condition is True\n"
          ]
        }
      ]
    },
    {
      "cell_type": "markdown",
      "source": [
        "## Break and Continue"
      ],
      "metadata": {
        "id": "Xabbhir4fED1"
      }
    },
    {
      "cell_type": "code",
      "source": [
        "items = [1, 2, 3, 4]\n",
        "for item in items:\n",
        "  if item == 2:\n",
        "    continue\n",
        "    print(item)"
      ],
      "metadata": {
        "id": "C5_SdToCfEYu"
      },
      "execution_count": null,
      "outputs": []
    },
    {
      "cell_type": "markdown",
      "source": [
        "## Classes"
      ],
      "metadata": {
        "id": "S7Akc8MUfFUB"
      }
    },
    {
      "cell_type": "code",
      "source": [
        "class Dog:\n",
        "  def bark(self):\n",
        "    print(\"woof!\")"
      ],
      "metadata": {
        "id": "ZP_gl9IrfFvm"
      },
      "execution_count": null,
      "outputs": []
    },
    {
      "cell_type": "markdown",
      "source": [
        "## Modules"
      ],
      "metadata": {
        "id": "voM_fnldfGsC"
      }
    },
    {
      "cell_type": "code",
      "source": [
        "def bark():\n",
        "  print(\"woof!\")"
      ],
      "metadata": {
        "id": "SfXtMHMufHd-"
      },
      "execution_count": null,
      "outputs": []
    },
    {
      "cell_type": "markdown",
      "source": [
        "## Arguments from Command Line"
      ],
      "metadata": {
        "id": "lS2yKZnSfK3E"
      }
    },
    {
      "cell_type": "code",
      "source": [
        "print(\"hello\")"
      ],
      "metadata": {
        "id": "HetLVVF3fLUP",
        "outputId": "5e0d5656-1c88-44c1-ce02-febbb510483d",
        "colab": {
          "base_uri": "https://localhost:8080/"
        }
      },
      "execution_count": null,
      "outputs": [
        {
          "output_type": "stream",
          "name": "stdout",
          "text": [
            "hello\n"
          ]
        }
      ]
    },
    {
      "cell_type": "markdown",
      "source": [
        "## Lambda Functions"
      ],
      "metadata": {
        "id": "ly5LEeRefMt2"
      }
    },
    {
      "cell_type": "code",
      "source": [
        "lambda num : num * 2"
      ],
      "metadata": {
        "id": "BeZeGnl0fNCO",
        "outputId": "0c5b1bd3-41f0-411f-b5ca-d21444bbcf11",
        "colab": {
          "base_uri": "https://localhost:8080/"
        }
      },
      "execution_count": null,
      "outputs": [
        {
          "output_type": "execute_result",
          "data": {
            "text/plain": [
              "<function __main__.<lambda>(num)>"
            ]
          },
          "metadata": {},
          "execution_count": 20
        }
      ]
    },
    {
      "cell_type": "markdown",
      "source": [
        "## Map, Filter, Reduce"
      ],
      "metadata": {
        "id": "7Gh4uf41fOna"
      }
    },
    {
      "cell_type": "code",
      "source": [
        "numbers = [1, 2, 3]\n",
        "\n",
        "def double(a):\n",
        "  return a * 2\n",
        "\n",
        "  result = map(double, numbers)\n",
        "\n",
        "  def fun(variable):\n",
        "    letters = ['a', 'e', 'i', 'o', 'u']\n",
        "    if (variable in letters):\n",
        "        return True\n",
        "    else:\n",
        "        return False"
      ],
      "metadata": {
        "id": "x3ZW62tGfO7_"
      },
      "execution_count": null,
      "outputs": []
    },
    {
      "cell_type": "markdown",
      "source": [
        "## Recursion "
      ],
      "metadata": {
        "id": "q_isGYkCfQBP"
      }
    },
    {
      "cell_type": "code",
      "source": [
        "def factorial(x):\n",
        "\n",
        "\n",
        "    if x == 1:\n",
        "        return 1\n",
        "    else:\n",
        "        return (x * factorial(x-1))\n",
        "\n",
        "\n",
        "num = 3\n",
        "print(\"The factorial of\", num, \"is\", factorial(num))"
      ],
      "metadata": {
        "id": "AaT1_pmUfQhW",
        "outputId": "978752b5-9595-4ab0-b8bc-943a882385f1",
        "colab": {
          "base_uri": "https://localhost:8080/"
        }
      },
      "execution_count": null,
      "outputs": [
        {
          "output_type": "stream",
          "name": "stdout",
          "text": [
            "The factorial of 3 is 6\n"
          ]
        }
      ]
    },
    {
      "cell_type": "markdown",
      "source": [
        "# The remaining modules from the Video is Optional if you wish to continue you can continue"
      ],
      "metadata": {
        "id": "N2Glk5gYfSnV"
      }
    },
    {
      "cell_type": "code",
      "source": [
        "def first(msg):\n",
        "    print(msg)\n",
        "\n",
        "\n",
        "first(\"Hello\")\n",
        "\n",
        "second = first\n",
        "second(\"Hello\")"
      ],
      "metadata": {
        "id": "KP3bIsY-fcEG",
        "outputId": "a6376a16-1e25-4f0a-dd39-ddd359ed112c",
        "colab": {
          "base_uri": "https://localhost:8080/"
        }
      },
      "execution_count": null,
      "outputs": [
        {
          "output_type": "stream",
          "name": "stdout",
          "text": [
            "Hello\n",
            "Hello\n"
          ]
        }
      ]
    }
  ]
}