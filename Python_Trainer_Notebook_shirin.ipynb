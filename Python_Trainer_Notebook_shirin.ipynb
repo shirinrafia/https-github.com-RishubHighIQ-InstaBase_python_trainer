{
  "nbformat": 4,
  "nbformat_minor": 0,
  "metadata": {
    "colab": {
      "provenance": [],
      "include_colab_link": true
    },
    "kernelspec": {
      "name": "python3",
      "display_name": "Python 3"
    },
    "language_info": {
      "name": "python"
    }
  },
  "cells": [
    {
      "cell_type": "markdown",
      "metadata": {
        "id": "view-in-github",
        "colab_type": "text"
      },
      "source": [
        "<a href=\"https://colab.research.google.com/github/shirinrafia/https-github.com-RishubHighIQ-InstaBase_python_trainer/blob/main/Python_Trainer_Notebook_shirin.ipynb\" target=\"_parent\"><img src=\"https://colab.research.google.com/assets/colab-badge.svg\" alt=\"Open In Colab\"/></a>"
      ]
    },
    {
      "cell_type": "code",
      "source": [
        "my_set = {1,2,3,4,5}\n",
        "your_set ={4,5,6,7,8,9,10}\n",
        "\n",
        "print(my_set.union(your_set))\n"
      ],
      "metadata": {
        "id": "GGAkh1MYws-l",
        "outputId": "599850d6-aa5d-4c26-919c-03080a9a84e4",
        "colab": {
          "base_uri": "https://localhost:8080/"
        }
      },
      "execution_count": 45,
      "outputs": [
        {
          "output_type": "stream",
          "name": "stdout",
          "text": [
            "{1, 2, 3, 4, 5, 6, 7, 8, 9, 10}\n"
          ]
        }
      ]
    },
    {
      "cell_type": "code",
      "source": [
        "my_set = {1,2,3,4,5}\n",
        "your_set ={4,5,6,7,8,9,10}\n",
        "\n",
        "print(my_set.intersection(your_set))\n"
      ],
      "metadata": {
        "id": "r0MNRdAtwfYY",
        "outputId": "2d4c7f13-7f49-45ef-8aec-b8aa1793b14e",
        "colab": {
          "base_uri": "https://localhost:8080/"
        }
      },
      "execution_count": 44,
      "outputs": [
        {
          "output_type": "stream",
          "name": "stdout",
          "text": [
            "{4, 5}\n"
          ]
        }
      ]
    },
    {
      "cell_type": "code",
      "source": [
        "my_set = {1,2,3,4,5}\n",
        "your_set ={4,5,6,7,8,9,10}\n",
        "\n",
        "print(my_set.difference(your_set))\n",
        "print(my_set)"
      ],
      "metadata": {
        "id": "-hSswJonwSrQ",
        "outputId": "27e732f9-3fdf-4c06-df2e-3e675430344e",
        "colab": {
          "base_uri": "https://localhost:8080/"
        }
      },
      "execution_count": 43,
      "outputs": [
        {
          "output_type": "stream",
          "name": "stdout",
          "text": [
            "{1, 2, 3}\n",
            "{1, 2, 3, 4, 5}\n"
          ]
        }
      ]
    },
    {
      "cell_type": "code",
      "source": [
        "my_set = {1,2,3,4,5}\n",
        "your_set ={4,5,6,7,8,9,10}\n",
        "\n",
        "print(my_set.discard(5))\n",
        "print(my_set)"
      ],
      "metadata": {
        "id": "4RH9FVeCvyIn",
        "outputId": "51d23e23-8ce1-4155-be49-5cc8e8914973",
        "colab": {
          "base_uri": "https://localhost:8080/"
        }
      },
      "execution_count": 42,
      "outputs": [
        {
          "output_type": "stream",
          "name": "stdout",
          "text": [
            "None\n",
            "{1, 2, 3, 4}\n"
          ]
        }
      ]
    },
    {
      "cell_type": "code",
      "source": [
        "my_set = {1,2,3,4,5}\n",
        "your_set ={4,5,6,7,8,9,10}\n",
        "\n",
        "print(my_set.difference(your_set))"
      ],
      "metadata": {
        "id": "_0n-IYbAvgSI",
        "outputId": "994cc6c8-39f0-4163-ed58-b9269686d694",
        "colab": {
          "base_uri": "https://localhost:8080/"
        }
      },
      "execution_count": 39,
      "outputs": [
        {
          "output_type": "stream",
          "name": "stdout",
          "text": [
            "{1, 2, 3}\n"
          ]
        }
      ]
    },
    {
      "cell_type": "code",
      "source": [
        "my_set = {1,2,3,4,5}\n",
        "my_set.add(100)\n",
        "my_set.add(2)\n",
        "print(my_set)"
      ],
      "metadata": {
        "id": "TAl4KCQzuZri",
        "outputId": "50da25c6-f966-4a0d-f095-5691595b27fb",
        "colab": {
          "base_uri": "https://localhost:8080/"
        }
      },
      "execution_count": 38,
      "outputs": [
        {
          "output_type": "stream",
          "name": "stdout",
          "text": [
            "{1, 2, 3, 4, 5, 100}\n"
          ]
        }
      ]
    },
    {
      "cell_type": "code",
      "source": [
        "my_tuple = (1, 2, 3, 4, 5)\n",
        "new_tuple = my_tuple[1:4]\n",
        "print(new_tuple)"
      ],
      "metadata": {
        "id": "4JGxkqBUsLCN",
        "outputId": "61b8dd29-2f9c-4ba5-f85c-33e9b5abeb15",
        "colab": {
          "base_uri": "https://localhost:8080/"
        }
      },
      "execution_count": 37,
      "outputs": [
        {
          "output_type": "stream",
          "name": "stdout",
          "text": [
            "(2, 3, 4)\n"
          ]
        }
      ]
    },
    {
      "cell_type": "code",
      "source": [
        "user = {\n",
        "    'basket' : [1,2,3],\n",
        "    'greet' : 'hello',\n",
        "    'age'  : 20\n",
        "}\n",
        "print('hello' in user.keys())"
      ],
      "metadata": {
        "id": "I0VUC-a3qzU5",
        "outputId": "5425ebbd-5a11-4909-ccda-1add9fea7b52",
        "colab": {
          "base_uri": "https://localhost:8080/"
        }
      },
      "execution_count": 34,
      "outputs": [
        {
          "output_type": "stream",
          "name": "stdout",
          "text": [
            "False\n"
          ]
        }
      ]
    },
    {
      "cell_type": "code",
      "source": [
        "user = {\n",
        "    'basket' : [1,2,3],\n",
        "    'greet' : 'hello',\n",
        "    'age'  : 20\n",
        "}\n",
        "print('hello' in user.values())"
      ],
      "metadata": {
        "id": "tnVOhSI9qhwP",
        "outputId": "34ff5a84-f834-49bf-95e5-a1ff8f95f8ff",
        "colab": {
          "base_uri": "https://localhost:8080/"
        }
      },
      "execution_count": 33,
      "outputs": [
        {
          "output_type": "stream",
          "name": "stdout",
          "text": [
            "True\n"
          ]
        }
      ]
    },
    {
      "cell_type": "code",
      "source": [
        "user = {\n",
        "    'basket' : [1,2,3],\n",
        "    'greet' : 'hello',\n",
        "    'age'  : 20\n",
        "}\n",
        "print(user.get('age'))"
      ],
      "metadata": {
        "id": "kXS0QKzgp5ni",
        "outputId": "2c8924ed-6a34-4dd0-8062-9cf5e0c44cd1",
        "colab": {
          "base_uri": "https://localhost:8080/"
        }
      },
      "execution_count": 29,
      "outputs": [
        {
          "output_type": "stream",
          "name": "stdout",
          "text": [
            "20\n"
          ]
        }
      ]
    },
    {
      "cell_type": "code",
      "source": [
        "a,b,c, * other, d = [1,2,3,4,5,6,7,8,9]\n",
        "print(a)\n",
        "print(b)\n",
        "print(c)\n",
        "print(other)\n",
        "print(d)"
      ],
      "metadata": {
        "id": "IW0-VA5ilceG",
        "outputId": "1f88b3a1-a277-4df3-a51f-80d6f8204e1f",
        "colab": {
          "base_uri": "https://localhost:8080/"
        }
      },
      "execution_count": 22,
      "outputs": [
        {
          "output_type": "stream",
          "name": "stdout",
          "text": [
            "1\n",
            "2\n",
            "3\n",
            "[4, 5, 6, 7, 8]\n",
            "9\n"
          ]
        }
      ]
    },
    {
      "cell_type": "code",
      "source": [
        "dict = {'a':1, 'b' : 'hellloo', 'c': True}\n",
        "print(dict['c'])"
      ],
      "metadata": {
        "id": "5XZGBMQ5nk5P",
        "outputId": "5008415e-0990-471a-bdc2-0aa734a0cf45",
        "colab": {
          "base_uri": "https://localhost:8080/"
        }
      },
      "execution_count": 28,
      "outputs": [
        {
          "output_type": "stream",
          "name": "stdout",
          "text": [
            "True\n"
          ]
        }
      ]
    },
    {
      "cell_type": "code",
      "source": [
        "dict = {'a':1, 'b' : 2, 'c':7}\n",
        "print(dict)"
      ],
      "metadata": {
        "id": "yr3e1-anm3Fe",
        "outputId": "f1d92796-08dc-46da-8e04-bbf6a322f2a7",
        "colab": {
          "base_uri": "https://localhost:8080/"
        }
      },
      "execution_count": 25,
      "outputs": [
        {
          "output_type": "stream",
          "name": "stdout",
          "text": [
            "{'a': 1, 'b': 2, 'c': 7}\n"
          ]
        }
      ]
    },
    {
      "cell_type": "code",
      "source": [
        "basket = ['a','b','z','v','d']\n",
        "basket.sort()\n",
        "basket.reverse()\n",
        "print(basket[::1])"
      ],
      "metadata": {
        "id": "vACk4IjMkdbf",
        "outputId": "3b16ec10-c496-4284-86fa-81a065df185f",
        "colab": {
          "base_uri": "https://localhost:8080/"
        }
      },
      "execution_count": 20,
      "outputs": [
        {
          "output_type": "stream",
          "name": "stdout",
          "text": [
            "['z', 'v', 'd', 'b', 'a']\n"
          ]
        }
      ]
    },
    {
      "cell_type": "code",
      "source": [
        "basket.pop()\n",
        "print(basket)"
      ],
      "metadata": {
        "id": "4-WbTbN3gO7-",
        "outputId": "9a4f77bb-425c-42a2-fede-800d9f527108",
        "colab": {
          "base_uri": "https://localhost:8080/"
        }
      },
      "execution_count": null,
      "outputs": [
        {
          "output_type": "stream",
          "name": "stdout",
          "text": [
            "[1, 2, 3, 4, 5]\n"
          ]
        }
      ]
    },
    {
      "cell_type": "code",
      "source": [
        "basket = ['a','b','c']\n",
        "print(basket.index('b'))"
      ],
      "metadata": {
        "id": "9BOsiDDxh2GM",
        "outputId": "081cf08c-92e9-4201-a000-f6c31b3b5a7f",
        "colab": {
          "base_uri": "https://localhost:8080/"
        }
      },
      "execution_count": 17,
      "outputs": [
        {
          "output_type": "stream",
          "name": "stdout",
          "text": [
            "1\n"
          ]
        }
      ]
    },
    {
      "cell_type": "code",
      "source": [
        "basket = ['a','b','z','v','d']\n",
        "basket.sort()\n",
        "print(basket)"
      ],
      "metadata": {
        "id": "3EijiS6Ej-Xl",
        "outputId": "4ef883a7-8f06-4c48-eb4a-ef955a7c979d",
        "colab": {
          "base_uri": "https://localhost:8080/"
        }
      },
      "execution_count": 18,
      "outputs": [
        {
          "output_type": "stream",
          "name": "stdout",
          "text": [
            "['a', 'b', 'd', 'v', 'z']\n"
          ]
        }
      ]
    },
    {
      "cell_type": "code",
      "source": [
        "basket = [1,2,3,4,5]\n",
        "new_list = basket.append(100)\n",
        "print(basket)\n",
        "print(new_list)"
      ],
      "metadata": {
        "id": "3ZYS2HNIfc4e",
        "outputId": "f6cbb4d3-0dfb-4dc1-d936-d74fcefad4f8",
        "colab": {
          "base_uri": "https://localhost:8080/"
        }
      },
      "execution_count": null,
      "outputs": [
        {
          "output_type": "stream",
          "name": "stdout",
          "text": [
            "[1, 2, 3, 4, 5, 100]\n",
            "None\n"
          ]
        }
      ]
    },
    {
      "cell_type": "code",
      "source": [
        "amazon_cart = ['notebooks', 'sunglasses', 'toys', 'bicycles']\n",
        "print(amazon_cart[0:2])"
      ],
      "metadata": {
        "id": "IRHsVzGZWh3x",
        "outputId": "8baa66dd-e655-46e7-a2f8-70d7bf615fc5",
        "colab": {
          "base_uri": "https://localhost:8080/"
        }
      },
      "execution_count": null,
      "outputs": [
        {
          "output_type": "stream",
          "name": "stdout",
          "text": [
            "['notebooks', 'sunglasses']\n"
          ]
        }
      ]
    },
    {
      "cell_type": "code",
      "source": [],
      "metadata": {
        "id": "AKv4uvG1XOlI"
      },
      "execution_count": null,
      "outputs": []
    },
    {
      "cell_type": "code",
      "source": [
        "amazon_cart[0] = 'laptops'\n",
        "print(amazon_cart)"
      ],
      "metadata": {
        "id": "qAvX4IkBXDoK",
        "outputId": "075582b6-ce63-4d3f-dde8-866988f653ff",
        "colab": {
          "base_uri": "https://localhost:8080/"
        }
      },
      "execution_count": null,
      "outputs": [
        {
          "output_type": "stream",
          "name": "stdout",
          "text": [
            "['laptops', 'sunglasses', 'toys', 'bicycles']\n"
          ]
        }
      ]
    },
    {
      "cell_type": "code",
      "source": [
        "matrix = [[0,1,2],[3,4,5],[6,7,8]]\n",
        "\n",
        "print(matrix[0][2])"
      ],
      "metadata": {
        "id": "y_-3dJMtbDQK",
        "outputId": "fcc87370-d516-4aba-c6cb-a0d6a2ee02db",
        "colab": {
          "base_uri": "https://localhost:8080/"
        }
      },
      "execution_count": null,
      "outputs": [
        {
          "output_type": "stream",
          "name": "stdout",
          "text": [
            "2\n"
          ]
        }
      ]
    },
    {
      "cell_type": "code",
      "source": [
        "basket = [1,2,3]\n",
        "print(len(basket))"
      ],
      "metadata": {
        "id": "mDVWRuv4dq4K",
        "outputId": "fa97f8db-c3b1-410f-8c03-188ad3329b1c",
        "colab": {
          "base_uri": "https://localhost:8080/"
        }
      },
      "execution_count": null,
      "outputs": [
        {
          "output_type": "stream",
          "name": "stdout",
          "text": [
            "3\n"
          ]
        }
      ]
    },
    {
      "cell_type": "code",
      "source": [
        "username = input('what is your name?')\n",
        "password = input('what is your password?')\n",
        "\n",
        "password_length = len(password)\n",
        "hidden_password = '*' * password_length\n",
        "\n",
        "print(f'{username}, your password, {hidden_password}, is {password_length} letters long')"
      ],
      "metadata": {
        "id": "K1_xbOil0-cy",
        "outputId": "dcdc030e-f44c-4389-b6ea-a5b063b250d0",
        "colab": {
          "base_uri": "https://localhost:8080/"
        }
      },
      "execution_count": null,
      "outputs": [
        {
          "output_type": "stream",
          "name": "stdout",
          "text": [
            "what is your name?shirin\n",
            "what is your password?Shirinrafia*123\n",
            "shirin, your password, ***************, is 15 letters long\n"
          ]
        }
      ]
    },
    {
      "cell_type": "markdown",
      "source": [
        "# **HighIQ Python Trainer Notebook** *(Zero to One)*"
      ],
      "metadata": {
        "id": "Z4FTcvTAdQKq"
      }
    },
    {
      "cell_type": "code",
      "source": [],
      "metadata": {
        "id": "0UFInqk0QvT2"
      },
      "execution_count": null,
      "outputs": []
    },
    {
      "cell_type": "code",
      "source": [
        "amazon_cart = ['notebooks', 'sunglasses']\n",
        "print(amazon_cart[0])"
      ],
      "metadata": {
        "id": "-30YLwcpTJ0M",
        "outputId": "3aa25909-f911-46e4-a44c-83646f71d8c3",
        "colab": {
          "base_uri": "https://localhost:8080/"
        }
      },
      "execution_count": null,
      "outputs": [
        {
          "output_type": "stream",
          "name": "stdout",
          "text": [
            "notebooks\n"
          ]
        }
      ]
    },
    {
      "cell_type": "code",
      "source": [
        "birth_year = input('what year you were born?')\n",
        "\n",
        "age = 2022 - int(birth_year)\n",
        "\n",
        "print(f'your age is : {age} ')"
      ],
      "metadata": {
        "id": "iBes6UBd0_yW",
        "outputId": "e35036c7-4820-41d6-b285-881ffe5467f2",
        "colab": {
          "base_uri": "https://localhost:8080/"
        }
      },
      "execution_count": null,
      "outputs": [
        {
          "output_type": "stream",
          "name": "stdout",
          "text": [
            "what year you were born?2000\n",
            "your age is : 22 \n"
          ]
        }
      ]
    },
    {
      "cell_type": "code",
      "source": [
        "name = 'shirin'\n",
        "is_nice = False\n",
        "is_nice = True\n",
        "\n",
        "print(bool(0))"
      ],
      "metadata": {
        "id": "dJVQLv7jz5GY",
        "outputId": "1076de1c-dbdf-46aa-bde3-e3fa6a505f64",
        "colab": {
          "base_uri": "https://localhost:8080/"
        }
      },
      "execution_count": null,
      "outputs": [
        {
          "output_type": "stream",
          "name": "stdout",
          "text": [
            "False\n"
          ]
        }
      ]
    },
    {
      "cell_type": "code",
      "source": [
        "selfish = 'me me me'\n",
        "print(selfish[6]) \n"
      ],
      "metadata": {
        "id": "5pgGY2wquZzr",
        "outputId": "24f5cc7d-2e90-4963-f0f6-7627b03516f6",
        "colab": {
          "base_uri": "https://localhost:8080/"
        }
      },
      "execution_count": null,
      "outputs": [
        {
          "output_type": "stream",
          "name": "stdout",
          "text": [
            "m\n"
          ]
        }
      ]
    },
    {
      "cell_type": "code",
      "source": [
        "weather = \"It's \\\"kind of\\\"sunny\"\n",
        "print(weather)"
      ],
      "metadata": {
        "id": "GPA-QfIKuQRa",
        "outputId": "e9fe0782-aeeb-4c58-e5ae-4d6023914c0a",
        "colab": {
          "base_uri": "https://localhost:8080/"
        }
      },
      "execution_count": null,
      "outputs": [
        {
          "output_type": "stream",
          "name": "stdout",
          "text": [
            "It's \"kind of\"sunny\n"
          ]
        }
      ]
    },
    {
      "cell_type": "code",
      "source": [
        "a = str(100)\n",
        "b = int(a)\n",
        "c = type(b)\n",
        "print(c)"
      ],
      "metadata": {
        "id": "ygNRld8WtKzQ",
        "outputId": "59f74247-1651-46b3-a8df-b4cf76198d68",
        "colab": {
          "base_uri": "https://localhost:8080/"
        }
      },
      "execution_count": null,
      "outputs": [
        {
          "output_type": "stream",
          "name": "stdout",
          "text": [
            "<class 'int'>\n"
          ]
        }
      ]
    },
    {
      "cell_type": "code",
      "source": [
        "print(type(int(str(100))))"
      ],
      "metadata": {
        "id": "JYhNy3ZTtDh6",
        "outputId": "6c31793d-7aba-465e-abbf-623dad4f0a01",
        "colab": {
          "base_uri": "https://localhost:8080/"
        }
      },
      "execution_count": null,
      "outputs": [
        {
          "output_type": "stream",
          "name": "stdout",
          "text": [
            "<class 'int'>\n"
          ]
        }
      ]
    },
    {
      "cell_type": "code",
      "source": [
        "print('hey '  +  'shirin')"
      ],
      "metadata": {
        "id": "_ZxBXGq1sLW9",
        "outputId": "ec324479-987d-4d83-c34b-950278d97ab8",
        "colab": {
          "base_uri": "https://localhost:8080/"
        }
      },
      "execution_count": null,
      "outputs": [
        {
          "output_type": "stream",
          "name": "stdout",
          "text": [
            "hey shirin\n"
          ]
        }
      ]
    },
    {
      "cell_type": "code",
      "source": [
        "print(type('hi shirin'))\n",
        "long_string = '''\n",
        "WOW\n",
        "0  0\n",
        "----\n",
        "'''\n",
        "print(long_string)"
      ],
      "metadata": {
        "id": "UEunczicqOwA",
        "outputId": "6ddc4f18-4ae0-4952-8745-d7cdfb6ab4d6",
        "colab": {
          "base_uri": "https://localhost:8080/"
        }
      },
      "execution_count": null,
      "outputs": [
        {
          "output_type": "stream",
          "name": "stdout",
          "text": [
            "<class 'str'>\n",
            "\n",
            "WOW\n",
            "0  0\n",
            "----\n",
            "\n"
          ]
        }
      ]
    },
    {
      "cell_type": "code",
      "source": [
        "iq = 100\n",
        "user_age = iq/5"
      ],
      "metadata": {
        "id": "-RQu7IkMpnDN"
      },
      "execution_count": null,
      "outputs": []
    },
    {
      "cell_type": "code",
      "source": [
        "some_value = 5\n",
        "some_value = some_value + 6\n",
        "\n",
        "print(some_value)"
      ],
      "metadata": {
        "id": "SHqijHUyqC2p",
        "outputId": "aa0a3ade-54a8-4617-8b0b-66356dc731f3",
        "colab": {
          "base_uri": "https://localhost:8080/"
        }
      },
      "execution_count": null,
      "outputs": [
        {
          "output_type": "stream",
          "name": "stdout",
          "text": [
            "11\n"
          ]
        }
      ]
    },
    {
      "cell_type": "markdown",
      "source": [
        "# [**Click on this Course**](https://www.youtube.com/watch?v=eWRfhZUzrAc&t=2s)"
      ],
      "metadata": {
        "id": "Uwve7HQNa_8p"
      }
    },
    {
      "cell_type": "code",
      "source": [
        "print(bin(5))"
      ],
      "metadata": {
        "id": "78fq6CMNrMup",
        "outputId": "fafef871-c1c6-4fef-8126-0e89c3bc45b6",
        "colab": {
          "base_uri": "https://localhost:8080/"
        }
      },
      "execution_count": null,
      "outputs": [
        {
          "output_type": "stream",
          "name": "stdout",
          "text": [
            "0b101\n"
          ]
        }
      ]
    },
    {
      "cell_type": "code",
      "source": [
        "input('what is your age?')"
      ],
      "metadata": {
        "id": "TPLLVRB5kAVW",
        "outputId": "f17635d8-6e60-4391-fff7-355937e74881",
        "colab": {
          "base_uri": "https://localhost:8080/",
          "height": 53
        }
      },
      "execution_count": null,
      "outputs": [
        {
          "name": "stdout",
          "output_type": "stream",
          "text": [
            "what is your age?22\n"
          ]
        },
        {
          "output_type": "execute_result",
          "data": {
            "text/plain": [
              "'22'"
            ],
            "application/vnd.google.colaboratory.intrinsic+json": {
              "type": "string"
            }
          },
          "metadata": {},
          "execution_count": 2
        }
      ]
    },
    {
      "cell_type": "code",
      "source": [
        "print(\"shirinrafia\")"
      ],
      "metadata": {
        "id": "v2X470PKjDyl",
        "outputId": "936d6116-f123-48cf-e7b9-c8c11524afad",
        "colab": {
          "base_uri": "https://localhost:8080/"
        }
      },
      "execution_count": null,
      "outputs": [
        {
          "output_type": "stream",
          "name": "stdout",
          "text": [
            "shirinrafia\n"
          ]
        }
      ]
    },
    {
      "cell_type": "markdown",
      "source": [
        "## Variable And Functions"
      ],
      "metadata": {
        "id": "cpgKGi14bJCQ"
      }
    },
    {
      "cell_type": "code",
      "execution_count": null,
      "metadata": {
        "id": "HPoiJb3ea9IP"
      },
      "outputs": [],
      "source": []
    },
    {
      "cell_type": "markdown",
      "source": [
        "## Calling Funtions"
      ],
      "metadata": {
        "id": "nPYEMWVUbPyG"
      }
    },
    {
      "cell_type": "code",
      "source": [],
      "metadata": {
        "id": "QQg2W7qgbTld"
      },
      "execution_count": null,
      "outputs": []
    },
    {
      "cell_type": "markdown",
      "source": [
        "# Dictionaries"
      ],
      "metadata": {
        "id": "3zCwfoAsdcJc"
      }
    },
    {
      "cell_type": "code",
      "source": [],
      "metadata": {
        "id": "_DIhAalSde__"
      },
      "execution_count": null,
      "outputs": []
    },
    {
      "cell_type": "markdown",
      "source": [
        "## User Input"
      ],
      "metadata": {
        "id": "petiJbGXdfhj"
      }
    },
    {
      "cell_type": "code",
      "source": [],
      "metadata": {
        "id": "_9k1DtPvdgi1"
      },
      "execution_count": null,
      "outputs": []
    },
    {
      "cell_type": "markdown",
      "source": [
        "## Libraries, Lists, Methods"
      ],
      "metadata": {
        "id": "tzZl3DOXdprh"
      }
    },
    {
      "cell_type": "code",
      "source": [],
      "metadata": {
        "id": "_S9m4uMlds3G"
      },
      "execution_count": null,
      "outputs": []
    },
    {
      "cell_type": "markdown",
      "source": [
        "## Function Arguments"
      ],
      "metadata": {
        "id": "l-tGnRjadtV5"
      }
    },
    {
      "cell_type": "code",
      "source": [],
      "metadata": {
        "id": "EV16_MRKdumv"
      },
      "execution_count": null,
      "outputs": []
    },
    {
      "cell_type": "markdown",
      "source": [
        "## If Statements "
      ],
      "metadata": {
        "id": "03ei427ydvCH"
      }
    },
    {
      "cell_type": "code",
      "source": [],
      "metadata": {
        "id": "KLdfAJpAdw5e"
      },
      "execution_count": null,
      "outputs": []
    },
    {
      "cell_type": "markdown",
      "source": [
        "## Concatenating Strings"
      ],
      "metadata": {
        "id": "lLc9dSxAdxlO"
      }
    },
    {
      "cell_type": "code",
      "source": [],
      "metadata": {
        "id": "Fe9SwQGddzI_"
      },
      "execution_count": null,
      "outputs": []
    },
    {
      "cell_type": "markdown",
      "source": [
        "## f-strings"
      ],
      "metadata": {
        "id": "P90e3Tehdzyo"
      }
    },
    {
      "cell_type": "code",
      "source": [],
      "metadata": {
        "id": "Qgo8cE3cd1Q2"
      },
      "execution_count": null,
      "outputs": []
    },
    {
      "cell_type": "markdown",
      "source": [
        "## Else and Elif Statements"
      ],
      "metadata": {
        "id": "u_mTakxBd2kS"
      }
    },
    {
      "cell_type": "code",
      "source": [],
      "metadata": {
        "id": "zNjDnsigd2_W"
      },
      "execution_count": null,
      "outputs": []
    },
    {
      "cell_type": "markdown",
      "source": [
        "## Refactoring and Nested If"
      ],
      "metadata": {
        "id": "wS2xfKnod4eR"
      }
    },
    {
      "cell_type": "code",
      "source": [],
      "metadata": {
        "id": "rIiYmwxfd5jW"
      },
      "execution_count": null,
      "outputs": []
    },
    {
      "cell_type": "markdown",
      "source": [
        "## Accessing Dictionary Values"
      ],
      "metadata": {
        "id": "DD9fzpy-d62Y"
      }
    },
    {
      "cell_type": "code",
      "source": [],
      "metadata": {
        "id": "eY0OrKged7XW"
      },
      "execution_count": null,
      "outputs": []
    },
    {
      "cell_type": "markdown",
      "source": [
        "## Testing Game"
      ],
      "metadata": {
        "id": "6YCzWHIld9e9"
      }
    },
    {
      "cell_type": "code",
      "source": [],
      "metadata": {
        "id": "s0OEj-Gbd-On"
      },
      "execution_count": null,
      "outputs": []
    },
    {
      "cell_type": "markdown",
      "source": [
        "## Variables"
      ],
      "metadata": {
        "id": "pMILE6PCeN9p"
      }
    },
    {
      "cell_type": "code",
      "source": [],
      "metadata": {
        "id": "EVFLtjhUeOWX"
      },
      "execution_count": null,
      "outputs": []
    },
    {
      "cell_type": "markdown",
      "source": [
        "## Expressions and Statements "
      ],
      "metadata": {
        "id": "6q1iRyb2ePuB"
      }
    },
    {
      "cell_type": "code",
      "source": [],
      "metadata": {
        "id": "a3PXtTa0eREn"
      },
      "execution_count": null,
      "outputs": []
    },
    {
      "cell_type": "markdown",
      "source": [
        "## Comments"
      ],
      "metadata": {
        "id": "2rCTKhRLeRuE"
      }
    },
    {
      "cell_type": "code",
      "source": [],
      "metadata": {
        "id": "x1raHR6OeTCn"
      },
      "execution_count": null,
      "outputs": []
    },
    {
      "cell_type": "markdown",
      "source": [
        "## Data Types"
      ],
      "metadata": {
        "id": "Y4UgKDOZeTlw"
      }
    },
    {
      "cell_type": "code",
      "source": [],
      "metadata": {
        "id": "5e5xG42ReVSf"
      },
      "execution_count": null,
      "outputs": []
    },
    {
      "cell_type": "markdown",
      "source": [
        "## Operators"
      ],
      "metadata": {
        "id": "mwrnTSyGeWYd"
      }
    },
    {
      "cell_type": "code",
      "source": [],
      "metadata": {
        "id": "Mi8S3b5KeWx3"
      },
      "execution_count": null,
      "outputs": []
    },
    {
      "cell_type": "markdown",
      "source": [
        "## Arithmetic Operators"
      ],
      "metadata": {
        "id": "whKmv46teX5c"
      }
    },
    {
      "cell_type": "code",
      "source": [],
      "metadata": {
        "id": "Y4rSawE8eYTP"
      },
      "execution_count": null,
      "outputs": []
    },
    {
      "cell_type": "markdown",
      "source": [
        "## Comparison Operators"
      ],
      "metadata": {
        "id": "6FmHbmxqeZq9"
      }
    },
    {
      "cell_type": "code",
      "source": [],
      "metadata": {
        "id": "41c0Nb_QeaBZ"
      },
      "execution_count": null,
      "outputs": []
    },
    {
      "cell_type": "markdown",
      "source": [
        "## Boolean Operators"
      ],
      "metadata": {
        "id": "2-J7FeH7ebK1"
      }
    },
    {
      "cell_type": "code",
      "source": [],
      "metadata": {
        "id": "kLdYyK5XebiG"
      },
      "execution_count": null,
      "outputs": []
    },
    {
      "cell_type": "markdown",
      "source": [
        "## Bitwise Operators"
      ],
      "metadata": {
        "id": "TaKZjFosec8n"
      }
    },
    {
      "cell_type": "code",
      "source": [],
      "metadata": {
        "id": "MByGcBpOedUG"
      },
      "execution_count": null,
      "outputs": []
    },
    {
      "cell_type": "markdown",
      "source": [
        "## is & in Operators"
      ],
      "metadata": {
        "id": "hV5q9mC-eeo4"
      }
    },
    {
      "cell_type": "code",
      "source": [],
      "metadata": {
        "id": "Ndi4cnzlefAP"
      },
      "execution_count": null,
      "outputs": []
    },
    {
      "cell_type": "markdown",
      "source": [
        "## Ternary Operator"
      ],
      "metadata": {
        "id": "CUEmAwccegYF"
      }
    },
    {
      "cell_type": "code",
      "source": [],
      "metadata": {
        "id": "MF-zLeiRegw2"
      },
      "execution_count": null,
      "outputs": []
    },
    {
      "cell_type": "markdown",
      "source": [
        "## Strings"
      ],
      "metadata": {
        "id": "7L1YgOd8eh5h"
      }
    },
    {
      "cell_type": "code",
      "source": [],
      "metadata": {
        "id": "kwFNtWYkei_u"
      },
      "execution_count": null,
      "outputs": []
    },
    {
      "cell_type": "markdown",
      "source": [
        "## String Methods"
      ],
      "metadata": {
        "id": "_2IoegzLek6x"
      }
    },
    {
      "cell_type": "code",
      "source": [],
      "metadata": {
        "id": "Q6mQwv5_elY2"
      },
      "execution_count": null,
      "outputs": []
    },
    {
      "cell_type": "markdown",
      "source": [
        "## Escaping Characters"
      ],
      "metadata": {
        "id": "u9cxX7ciemf8"
      }
    },
    {
      "cell_type": "code",
      "source": [],
      "metadata": {
        "id": "qHh5l3Eiem_H"
      },
      "execution_count": null,
      "outputs": []
    },
    {
      "cell_type": "markdown",
      "source": [
        "## String Characters & Slicing"
      ],
      "metadata": {
        "id": "splRgy3JeoGJ"
      }
    },
    {
      "cell_type": "code",
      "source": [],
      "metadata": {
        "id": "6Xt-fu0Beop2"
      },
      "execution_count": null,
      "outputs": []
    },
    {
      "cell_type": "markdown",
      "source": [
        "## Booleans"
      ],
      "metadata": {
        "id": "ba0Wi85Vepwa"
      }
    },
    {
      "cell_type": "code",
      "source": [],
      "metadata": {
        "id": "Ylg0Z_8weqOf"
      },
      "execution_count": null,
      "outputs": []
    },
    {
      "cell_type": "markdown",
      "source": [
        "## Number Data Types"
      ],
      "metadata": {
        "id": "GAsbi4JFerlH"
      }
    },
    {
      "cell_type": "code",
      "source": [],
      "metadata": {
        "id": "WQuOcuvUer_X"
      },
      "execution_count": null,
      "outputs": []
    },
    {
      "cell_type": "markdown",
      "source": [
        "## Built-in Functions"
      ],
      "metadata": {
        "id": "XolXXFBaetuF"
      }
    },
    {
      "cell_type": "code",
      "source": [
        "print(round(-5.5))"
      ],
      "metadata": {
        "id": "cZiBq-tWeuJv",
        "colab": {
          "base_uri": "https://localhost:8080/"
        },
        "outputId": "ee9b7393-ad83-492f-e870-67c6a8d85dea"
      },
      "execution_count": null,
      "outputs": [
        {
          "output_type": "stream",
          "name": "stdout",
          "text": [
            "-6\n"
          ]
        }
      ]
    },
    {
      "cell_type": "markdown",
      "source": [
        "## Enums"
      ],
      "metadata": {
        "id": "I53j-y1HevDM"
      }
    },
    {
      "cell_type": "code",
      "source": [
        "from enum import Enum\n",
        "\n",
        "class State(Enum):\n",
        "  INACTIVE = 0\n",
        "  ACTIVE = 1\n",
        "\n",
        "print(State.ACTIVE)"
      ],
      "metadata": {
        "id": "NEVbNcKMevfn",
        "colab": {
          "base_uri": "https://localhost:8080/"
        },
        "outputId": "349aff5c-0d6e-4e6a-871e-5b8041e28c31"
      },
      "execution_count": null,
      "outputs": [
        {
          "output_type": "stream",
          "name": "stdout",
          "text": [
            "State.ACTIVE\n"
          ]
        }
      ]
    },
    {
      "cell_type": "markdown",
      "source": [
        "## User Input"
      ],
      "metadata": {
        "id": "TYB97bGcewsF"
      }
    },
    {
      "cell_type": "code",
      "source": [
        "print(\"What is your age? \")\n",
        "age = input()\n",
        "print(\"your age is  \"  + age)\n"
      ],
      "metadata": {
        "id": "R6Tn9dRvexUX",
        "colab": {
          "base_uri": "https://localhost:8080/"
        },
        "outputId": "623f40c2-46e7-43db-eab7-ceac8cddfab7"
      },
      "execution_count": null,
      "outputs": [
        {
          "output_type": "stream",
          "name": "stdout",
          "text": [
            "What is your age? \n",
            "22\n",
            "your age is  22\n"
          ]
        }
      ]
    },
    {
      "cell_type": "markdown",
      "source": [
        "## Control Statements"
      ],
      "metadata": {
        "id": "S7iXVmC_eyow"
      }
    },
    {
      "cell_type": "code",
      "source": [
        "condition = False\n",
        "\n",
        "if condition == True:\n",
        "  print()\n"
      ],
      "metadata": {
        "id": "CX7ztXvKey_e"
      },
      "execution_count": null,
      "outputs": []
    },
    {
      "cell_type": "markdown",
      "source": [
        "## Lists"
      ],
      "metadata": {
        "id": "-o62Jhgcez5h"
      }
    },
    {
      "cell_type": "code",
      "source": [
        "dogs = [\"Shirin\", 1, \"Rafia\", True]\n",
        "\n",
        "print(\"Shirin\" in dogs)"
      ],
      "metadata": {
        "id": "Ph58MxB2e0RX",
        "outputId": "894b3496-1b2d-48a3-8a16-486620ce43dd",
        "colab": {
          "base_uri": "https://localhost:8080/"
        }
      },
      "execution_count": null,
      "outputs": [
        {
          "output_type": "stream",
          "name": "stdout",
          "text": [
            "True\n"
          ]
        }
      ]
    },
    {
      "cell_type": "markdown",
      "source": [
        "## Sorting Lists"
      ],
      "metadata": {
        "id": "JXCNZ6obe1Rk"
      }
    },
    {
      "cell_type": "code",
      "source": [
        "from typing import ItemsView\n",
        "items = [\"shirin\", \"rafia\", \"Beau\", \"Quincy\"]\n",
        "itemscopy = items[:]\n",
        "items.sort(key=str.lower)\n",
        "\n",
        "print(items)\n",
        "print(itemscopy)"
      ],
      "metadata": {
        "id": "lQVmMqQNe1nG",
        "outputId": "4bab2563-01aa-430d-b508-9eb7c251a926",
        "colab": {
          "base_uri": "https://localhost:8080/"
        }
      },
      "execution_count": null,
      "outputs": [
        {
          "output_type": "stream",
          "name": "stdout",
          "text": [
            "['Beau', 'Quincy', 'rafia', 'shirin']\n",
            "['shirin', 'rafia', 'Beau', 'Quincy']\n"
          ]
        }
      ]
    },
    {
      "cell_type": "markdown",
      "source": [
        "## Tuples"
      ],
      "metadata": {
        "id": "v-XATXsSe2fU"
      }
    },
    {
      "cell_type": "code",
      "source": [
        "names = (\"rogger\", \"aadhil\")\n",
        "\n",
        "names[-1]\n",
        "names.index(\"rogger\")\n",
        "\n",
        "len(names)\n",
        "\n",
        "print(\"rogger\" in names)"
      ],
      "metadata": {
        "id": "lywfMI8xe2y-",
        "outputId": "bf087707-e774-4fa3-bf35-f12f2a1925e3",
        "colab": {
          "base_uri": "https://localhost:8080/"
        }
      },
      "execution_count": null,
      "outputs": [
        {
          "output_type": "stream",
          "name": "stdout",
          "text": [
            "True\n"
          ]
        }
      ]
    },
    {
      "cell_type": "markdown",
      "source": [
        "## Dictionaries"
      ],
      "metadata": {
        "id": "z51qJ72re38l"
      }
    },
    {
      "cell_type": "code",
      "source": [
        "dog = {\"name\": \"Rafia\", \"age\": 8}\n",
        "\n",
        "print(dog['name'])"
      ],
      "metadata": {
        "id": "AswcmGTke4VG",
        "outputId": "d9be609b-4f9e-4c85-fd64-96a730182df5",
        "colab": {
          "base_uri": "https://localhost:8080/"
        }
      },
      "execution_count": null,
      "outputs": [
        {
          "output_type": "stream",
          "name": "stdout",
          "text": [
            "Rafia\n"
          ]
        }
      ]
    },
    {
      "cell_type": "markdown",
      "source": [
        "## Sets"
      ],
      "metadata": {
        "id": "o93NW4-Be5cC"
      }
    },
    {
      "cell_type": "code",
      "source": [
        "set1 = {\"rafia\", \"shirin\"}\n",
        "set2 = {\"rogger\"}\n",
        "\n",
        "intersect = set1 & set2\n",
        "print(intersect)"
      ],
      "metadata": {
        "id": "v3CIIJeAe5xu",
        "outputId": "98e05763-a117-4c28-d0f1-d74985777e53",
        "colab": {
          "base_uri": "https://localhost:8080/"
        }
      },
      "execution_count": null,
      "outputs": [
        {
          "output_type": "stream",
          "name": "stdout",
          "text": [
            "set()\n"
          ]
        }
      ]
    },
    {
      "cell_type": "markdown",
      "source": [
        "## Functions"
      ],
      "metadata": {
        "id": "UlOZz1nwe66p"
      }
    },
    {
      "cell_type": "code",
      "source": [
        "def hello(name):\n",
        "  print('Hello ' + name)\n",
        "\n",
        "  hello(\"shirin\")\n",
        "  hello(\"thaaka\")"
      ],
      "metadata": {
        "id": "i4lZX_n8e7TO"
      },
      "execution_count": null,
      "outputs": []
    },
    {
      "cell_type": "markdown",
      "source": [
        "## Variable Scope"
      ],
      "metadata": {
        "id": "YfJx0wrPe8mH"
      }
    },
    {
      "cell_type": "code",
      "source": [
        "  def test():\n",
        "    age = 8\n",
        "    print(age)\n"
      ],
      "metadata": {
        "id": "96Jp-il7e9A2"
      },
      "execution_count": null,
      "outputs": []
    },
    {
      "cell_type": "markdown",
      "source": [
        "## Nested Functions "
      ],
      "metadata": {
        "id": "rsdLZV63e-VW"
      }
    },
    {
      "cell_type": "code",
      "source": [
        "def talk(phrase):\n",
        "  def say(word):\n",
        "    print(word)\n",
        "\n",
        "    words = phrase.split(' ')\n",
        "    for word in words:\n",
        "      say(word)\n",
        "\n",
        "      talk('I am going to buy milk')\n"
      ],
      "metadata": {
        "id": "C4gt9Kjoe-ve"
      },
      "execution_count": null,
      "outputs": []
    },
    {
      "cell_type": "markdown",
      "source": [
        "## Closures"
      ],
      "metadata": {
        "id": "fM8dAnvie_p6"
      }
    },
    {
      "cell_type": "code",
      "source": [
        "def counter():\n",
        "  count = 0\n",
        "\n",
        "  def increment():\n",
        "    nonlocal count\n",
        "    count = count + 1\n",
        "    return count\n",
        "\n",
        "    return increment\n",
        "    increment = counter()\n",
        "\n",
        "    print(increment()) #1\n",
        "    print(increment()) #2\n",
        "    print(increment()) #3\n"
      ],
      "metadata": {
        "id": "kZCiwrFtfADm"
      },
      "execution_count": null,
      "outputs": []
    },
    {
      "cell_type": "markdown",
      "source": [
        "## Objects"
      ],
      "metadata": {
        "id": "C02Pc0GCfBB_"
      }
    },
    {
      "cell_type": "code",
      "source": [
        "age = 8\n",
        "\n",
        "print(age.real)"
      ],
      "metadata": {
        "id": "2W0N_9JRfBZu",
        "outputId": "ea30b6c7-4a9c-4d19-b700-cee1f19a4a3c",
        "colab": {
          "base_uri": "https://localhost:8080/"
        }
      },
      "execution_count": null,
      "outputs": [
        {
          "output_type": "stream",
          "name": "stdout",
          "text": [
            "8\n"
          ]
        }
      ]
    },
    {
      "cell_type": "markdown",
      "source": [
        "## Loops"
      ],
      "metadata": {
        "id": "Q4Qhe-HufCe7"
      }
    },
    {
      "cell_type": "code",
      "source": [
        "condition = True\n",
        "while condition == True:\n",
        "  print(\"The condition is True\")\n",
        "  condition = False"
      ],
      "metadata": {
        "id": "VD4BYaZYfC52",
        "outputId": "772d05ff-7f35-4630-83a3-5716c641be30",
        "colab": {
          "base_uri": "https://localhost:8080/"
        }
      },
      "execution_count": null,
      "outputs": [
        {
          "output_type": "stream",
          "name": "stdout",
          "text": [
            "The condition is True\n"
          ]
        }
      ]
    },
    {
      "cell_type": "markdown",
      "source": [
        "## Break and Continue"
      ],
      "metadata": {
        "id": "Xabbhir4fED1"
      }
    },
    {
      "cell_type": "code",
      "source": [
        "items = [1, 2, 3, 4]\n",
        "for item in items:\n",
        "  if item == 2:\n",
        "    continue\n",
        "    print(item)"
      ],
      "metadata": {
        "id": "C5_SdToCfEYu"
      },
      "execution_count": null,
      "outputs": []
    },
    {
      "cell_type": "markdown",
      "source": [
        "## Classes"
      ],
      "metadata": {
        "id": "S7Akc8MUfFUB"
      }
    },
    {
      "cell_type": "code",
      "source": [
        "class Dog:\n",
        "  def bark(self):\n",
        "    print(\"woof!\")"
      ],
      "metadata": {
        "id": "ZP_gl9IrfFvm"
      },
      "execution_count": null,
      "outputs": []
    },
    {
      "cell_type": "markdown",
      "source": [
        "## Modules"
      ],
      "metadata": {
        "id": "voM_fnldfGsC"
      }
    },
    {
      "cell_type": "code",
      "source": [
        "def bark():\n",
        "  print(\"woof!\")"
      ],
      "metadata": {
        "id": "SfXtMHMufHd-"
      },
      "execution_count": null,
      "outputs": []
    },
    {
      "cell_type": "markdown",
      "source": [
        "## Arguments from Command Line"
      ],
      "metadata": {
        "id": "lS2yKZnSfK3E"
      }
    },
    {
      "cell_type": "code",
      "source": [
        "print(\"hello\")"
      ],
      "metadata": {
        "id": "HetLVVF3fLUP",
        "outputId": "5e0d5656-1c88-44c1-ce02-febbb510483d",
        "colab": {
          "base_uri": "https://localhost:8080/"
        }
      },
      "execution_count": null,
      "outputs": [
        {
          "output_type": "stream",
          "name": "stdout",
          "text": [
            "hello\n"
          ]
        }
      ]
    },
    {
      "cell_type": "markdown",
      "source": [
        "## Lambda Functions"
      ],
      "metadata": {
        "id": "ly5LEeRefMt2"
      }
    },
    {
      "cell_type": "code",
      "source": [
        "lambda num : num * 2"
      ],
      "metadata": {
        "id": "BeZeGnl0fNCO",
        "outputId": "0c5b1bd3-41f0-411f-b5ca-d21444bbcf11",
        "colab": {
          "base_uri": "https://localhost:8080/"
        }
      },
      "execution_count": null,
      "outputs": [
        {
          "output_type": "execute_result",
          "data": {
            "text/plain": [
              "<function __main__.<lambda>(num)>"
            ]
          },
          "metadata": {},
          "execution_count": 20
        }
      ]
    },
    {
      "cell_type": "markdown",
      "source": [
        "## Map, Filter, Reduce"
      ],
      "metadata": {
        "id": "7Gh4uf41fOna"
      }
    },
    {
      "cell_type": "code",
      "source": [
        "numbers = [1, 2, 3]\n",
        "\n",
        "def double(a):\n",
        "  return a * 2\n",
        "\n",
        "  result = map(double, numbers)\n",
        "\n",
        "  def fun(variable):\n",
        "    letters = ['a', 'e', 'i', 'o', 'u']\n",
        "    if (variable in letters):\n",
        "        return True\n",
        "    else:\n",
        "        return False"
      ],
      "metadata": {
        "id": "x3ZW62tGfO7_"
      },
      "execution_count": null,
      "outputs": []
    },
    {
      "cell_type": "markdown",
      "source": [
        "## Recursion "
      ],
      "metadata": {
        "id": "q_isGYkCfQBP"
      }
    },
    {
      "cell_type": "code",
      "source": [
        "def factorial(x):\n",
        "\n",
        "\n",
        "    if x == 1:\n",
        "        return 1\n",
        "    else:\n",
        "        return (x * factorial(x-1))\n",
        "\n",
        "\n",
        "num = 3\n",
        "print(\"The factorial of\", num, \"is\", factorial(num))"
      ],
      "metadata": {
        "id": "AaT1_pmUfQhW",
        "outputId": "978752b5-9595-4ab0-b8bc-943a882385f1",
        "colab": {
          "base_uri": "https://localhost:8080/"
        }
      },
      "execution_count": null,
      "outputs": [
        {
          "output_type": "stream",
          "name": "stdout",
          "text": [
            "The factorial of 3 is 6\n"
          ]
        }
      ]
    },
    {
      "cell_type": "markdown",
      "source": [
        "# The remaining modules from the Video is Optional if you wish to continue you can continue"
      ],
      "metadata": {
        "id": "N2Glk5gYfSnV"
      }
    },
    {
      "cell_type": "code",
      "source": [
        "def first(msg):\n",
        "    print(msg)\n",
        "\n",
        "\n",
        "first(\"Hello\")\n",
        "\n",
        "second = first\n",
        "second(\"Hello\")"
      ],
      "metadata": {
        "id": "KP3bIsY-fcEG",
        "outputId": "a6376a16-1e25-4f0a-dd39-ddd359ed112c",
        "colab": {
          "base_uri": "https://localhost:8080/"
        }
      },
      "execution_count": null,
      "outputs": [
        {
          "output_type": "stream",
          "name": "stdout",
          "text": [
            "Hello\n",
            "Hello\n"
          ]
        }
      ]
    }
  ]
}